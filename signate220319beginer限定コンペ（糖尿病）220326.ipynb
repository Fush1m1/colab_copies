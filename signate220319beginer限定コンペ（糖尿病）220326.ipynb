{
  "nbformat": 4,
  "nbformat_minor": 0,
  "metadata": {
    "colab": {
      "name": "signate220319beginer限定コンペ（糖尿病）.ipynb",
      "provenance": [],
      "collapsed_sections": [],
      "include_colab_link": true
    },
    "kernelspec": {
      "display_name": "Python 3",
      "name": "python3"
    }
  },
  "cells": [
    {
      "cell_type": "markdown",
      "metadata": {
        "id": "view-in-github",
        "colab_type": "text"
      },
      "source": [
        "<a href=\"https://colab.research.google.com/github/Fush1m1/colab_copies/blob/main/signate220319beginer%E9%99%90%E5%AE%9A%E3%82%B3%E3%83%B3%E3%83%9A%EF%BC%88%E7%B3%96%E5%B0%BF%E7%97%85%EF%BC%89220326.ipynb\" target=\"_parent\"><img src=\"https://colab.research.google.com/assets/colab-badge.svg\" alt=\"Open In Colab\"/></a>"
      ]
    },
    {
      "cell_type": "markdown",
      "metadata": {
        "id": "NE7wLFzOqyl2"
      },
      "source": [
        "# データとライブラリの読み込み"
      ]
    },
    {
      "cell_type": "code",
      "source": [
        "from datetime import datetime\n",
        "import numpy as np\n",
        "import pandas as pd\n",
        "import matplotlib.pyplot as plt\n",
        "from sklearn.model_selection import train_test_split\n",
        "from sklearn.preprocessing import LabelEncoder"
      ],
      "metadata": {
        "id": "pRlb78uUQ5hA"
      },
      "execution_count": 1,
      "outputs": []
    },
    {
      "cell_type": "code",
      "metadata": {
        "id": "J3Cwk-6YT6R4"
      },
      "source": [
        "train = pd.read_csv('train.csv')\n",
        "test = pd.read_csv('test.csv')\n",
        "sub = pd.read_csv('sample_submit.csv',header=None)"
      ],
      "execution_count": 2,
      "outputs": []
    },
    {
      "cell_type": "code",
      "source": [
        "train"
      ],
      "metadata": {
        "id": "6A5i75FH7QFt",
        "outputId": "d0024d7a-eaee-4bfd-bab3-d04459ace050",
        "colab": {
          "base_uri": "https://localhost:8080/",
          "height": 423
        }
      },
      "execution_count": 3,
      "outputs": [
        {
          "output_type": "execute_result",
          "data": {
            "text/plain": [
              "      index  Pregnancies  Glucose  BloodPressure  SkinThickness  Insulin  \\\n",
              "0       200            9      125             74              0        0   \n",
              "1      3832            4      109             80              0        0   \n",
              "2      4927            4       88             78             39        0   \n",
              "3      4088            9      125             74              0        0   \n",
              "4      3644            5      107             78             44      284   \n",
              "...     ...          ...      ...            ...            ...      ...   \n",
              "2995   4931            4       88             74             17        0   \n",
              "2996   3264            0      144             88              0        0   \n",
              "2997   1653            6      117             96             36        0   \n",
              "2998   2607            2      113             74              0        0   \n",
              "2999   2732            2      108             80              0        0   \n",
              "\n",
              "            BMI  DiabetesPedigreeFunction  Age  Outcome  \n",
              "0     28.536910                  0.444902   45        1  \n",
              "1     28.047673                  0.238243   22        0  \n",
              "2     52.371341                  0.279471   26        0  \n",
              "3     40.062688                  0.203922   45        0  \n",
              "4     52.935068                  0.284959   45        1  \n",
              "...         ...                       ...  ...      ...  \n",
              "2995  33.848723                  0.171073   23        0  \n",
              "2996  26.846832                  0.259957   21        1  \n",
              "2997  28.101646                  0.716126   22        1  \n",
              "2998  33.079021                  0.266179   38        1  \n",
              "2999  32.969598                  0.241814   22        0  \n",
              "\n",
              "[3000 rows x 10 columns]"
            ],
            "text/html": [
              "\n",
              "  <div id=\"df-ebaa32b1-14a5-47a6-8c20-752f92280d13\">\n",
              "    <div class=\"colab-df-container\">\n",
              "      <div>\n",
              "<style scoped>\n",
              "    .dataframe tbody tr th:only-of-type {\n",
              "        vertical-align: middle;\n",
              "    }\n",
              "\n",
              "    .dataframe tbody tr th {\n",
              "        vertical-align: top;\n",
              "    }\n",
              "\n",
              "    .dataframe thead th {\n",
              "        text-align: right;\n",
              "    }\n",
              "</style>\n",
              "<table border=\"1\" class=\"dataframe\">\n",
              "  <thead>\n",
              "    <tr style=\"text-align: right;\">\n",
              "      <th></th>\n",
              "      <th>index</th>\n",
              "      <th>Pregnancies</th>\n",
              "      <th>Glucose</th>\n",
              "      <th>BloodPressure</th>\n",
              "      <th>SkinThickness</th>\n",
              "      <th>Insulin</th>\n",
              "      <th>BMI</th>\n",
              "      <th>DiabetesPedigreeFunction</th>\n",
              "      <th>Age</th>\n",
              "      <th>Outcome</th>\n",
              "    </tr>\n",
              "  </thead>\n",
              "  <tbody>\n",
              "    <tr>\n",
              "      <th>0</th>\n",
              "      <td>200</td>\n",
              "      <td>9</td>\n",
              "      <td>125</td>\n",
              "      <td>74</td>\n",
              "      <td>0</td>\n",
              "      <td>0</td>\n",
              "      <td>28.536910</td>\n",
              "      <td>0.444902</td>\n",
              "      <td>45</td>\n",
              "      <td>1</td>\n",
              "    </tr>\n",
              "    <tr>\n",
              "      <th>1</th>\n",
              "      <td>3832</td>\n",
              "      <td>4</td>\n",
              "      <td>109</td>\n",
              "      <td>80</td>\n",
              "      <td>0</td>\n",
              "      <td>0</td>\n",
              "      <td>28.047673</td>\n",
              "      <td>0.238243</td>\n",
              "      <td>22</td>\n",
              "      <td>0</td>\n",
              "    </tr>\n",
              "    <tr>\n",
              "      <th>2</th>\n",
              "      <td>4927</td>\n",
              "      <td>4</td>\n",
              "      <td>88</td>\n",
              "      <td>78</td>\n",
              "      <td>39</td>\n",
              "      <td>0</td>\n",
              "      <td>52.371341</td>\n",
              "      <td>0.279471</td>\n",
              "      <td>26</td>\n",
              "      <td>0</td>\n",
              "    </tr>\n",
              "    <tr>\n",
              "      <th>3</th>\n",
              "      <td>4088</td>\n",
              "      <td>9</td>\n",
              "      <td>125</td>\n",
              "      <td>74</td>\n",
              "      <td>0</td>\n",
              "      <td>0</td>\n",
              "      <td>40.062688</td>\n",
              "      <td>0.203922</td>\n",
              "      <td>45</td>\n",
              "      <td>0</td>\n",
              "    </tr>\n",
              "    <tr>\n",
              "      <th>4</th>\n",
              "      <td>3644</td>\n",
              "      <td>5</td>\n",
              "      <td>107</td>\n",
              "      <td>78</td>\n",
              "      <td>44</td>\n",
              "      <td>284</td>\n",
              "      <td>52.935068</td>\n",
              "      <td>0.284959</td>\n",
              "      <td>45</td>\n",
              "      <td>1</td>\n",
              "    </tr>\n",
              "    <tr>\n",
              "      <th>...</th>\n",
              "      <td>...</td>\n",
              "      <td>...</td>\n",
              "      <td>...</td>\n",
              "      <td>...</td>\n",
              "      <td>...</td>\n",
              "      <td>...</td>\n",
              "      <td>...</td>\n",
              "      <td>...</td>\n",
              "      <td>...</td>\n",
              "      <td>...</td>\n",
              "    </tr>\n",
              "    <tr>\n",
              "      <th>2995</th>\n",
              "      <td>4931</td>\n",
              "      <td>4</td>\n",
              "      <td>88</td>\n",
              "      <td>74</td>\n",
              "      <td>17</td>\n",
              "      <td>0</td>\n",
              "      <td>33.848723</td>\n",
              "      <td>0.171073</td>\n",
              "      <td>23</td>\n",
              "      <td>0</td>\n",
              "    </tr>\n",
              "    <tr>\n",
              "      <th>2996</th>\n",
              "      <td>3264</td>\n",
              "      <td>0</td>\n",
              "      <td>144</td>\n",
              "      <td>88</td>\n",
              "      <td>0</td>\n",
              "      <td>0</td>\n",
              "      <td>26.846832</td>\n",
              "      <td>0.259957</td>\n",
              "      <td>21</td>\n",
              "      <td>1</td>\n",
              "    </tr>\n",
              "    <tr>\n",
              "      <th>2997</th>\n",
              "      <td>1653</td>\n",
              "      <td>6</td>\n",
              "      <td>117</td>\n",
              "      <td>96</td>\n",
              "      <td>36</td>\n",
              "      <td>0</td>\n",
              "      <td>28.101646</td>\n",
              "      <td>0.716126</td>\n",
              "      <td>22</td>\n",
              "      <td>1</td>\n",
              "    </tr>\n",
              "    <tr>\n",
              "      <th>2998</th>\n",
              "      <td>2607</td>\n",
              "      <td>2</td>\n",
              "      <td>113</td>\n",
              "      <td>74</td>\n",
              "      <td>0</td>\n",
              "      <td>0</td>\n",
              "      <td>33.079021</td>\n",
              "      <td>0.266179</td>\n",
              "      <td>38</td>\n",
              "      <td>1</td>\n",
              "    </tr>\n",
              "    <tr>\n",
              "      <th>2999</th>\n",
              "      <td>2732</td>\n",
              "      <td>2</td>\n",
              "      <td>108</td>\n",
              "      <td>80</td>\n",
              "      <td>0</td>\n",
              "      <td>0</td>\n",
              "      <td>32.969598</td>\n",
              "      <td>0.241814</td>\n",
              "      <td>22</td>\n",
              "      <td>0</td>\n",
              "    </tr>\n",
              "  </tbody>\n",
              "</table>\n",
              "<p>3000 rows × 10 columns</p>\n",
              "</div>\n",
              "      <button class=\"colab-df-convert\" onclick=\"convertToInteractive('df-ebaa32b1-14a5-47a6-8c20-752f92280d13')\"\n",
              "              title=\"Convert this dataframe to an interactive table.\"\n",
              "              style=\"display:none;\">\n",
              "        \n",
              "  <svg xmlns=\"http://www.w3.org/2000/svg\" height=\"24px\"viewBox=\"0 0 24 24\"\n",
              "       width=\"24px\">\n",
              "    <path d=\"M0 0h24v24H0V0z\" fill=\"none\"/>\n",
              "    <path d=\"M18.56 5.44l.94 2.06.94-2.06 2.06-.94-2.06-.94-.94-2.06-.94 2.06-2.06.94zm-11 1L8.5 8.5l.94-2.06 2.06-.94-2.06-.94L8.5 2.5l-.94 2.06-2.06.94zm10 10l.94 2.06.94-2.06 2.06-.94-2.06-.94-.94-2.06-.94 2.06-2.06.94z\"/><path d=\"M17.41 7.96l-1.37-1.37c-.4-.4-.92-.59-1.43-.59-.52 0-1.04.2-1.43.59L10.3 9.45l-7.72 7.72c-.78.78-.78 2.05 0 2.83L4 21.41c.39.39.9.59 1.41.59.51 0 1.02-.2 1.41-.59l7.78-7.78 2.81-2.81c.8-.78.8-2.07 0-2.86zM5.41 20L4 18.59l7.72-7.72 1.47 1.35L5.41 20z\"/>\n",
              "  </svg>\n",
              "      </button>\n",
              "      \n",
              "  <style>\n",
              "    .colab-df-container {\n",
              "      display:flex;\n",
              "      flex-wrap:wrap;\n",
              "      gap: 12px;\n",
              "    }\n",
              "\n",
              "    .colab-df-convert {\n",
              "      background-color: #E8F0FE;\n",
              "      border: none;\n",
              "      border-radius: 50%;\n",
              "      cursor: pointer;\n",
              "      display: none;\n",
              "      fill: #1967D2;\n",
              "      height: 32px;\n",
              "      padding: 0 0 0 0;\n",
              "      width: 32px;\n",
              "    }\n",
              "\n",
              "    .colab-df-convert:hover {\n",
              "      background-color: #E2EBFA;\n",
              "      box-shadow: 0px 1px 2px rgba(60, 64, 67, 0.3), 0px 1px 3px 1px rgba(60, 64, 67, 0.15);\n",
              "      fill: #174EA6;\n",
              "    }\n",
              "\n",
              "    [theme=dark] .colab-df-convert {\n",
              "      background-color: #3B4455;\n",
              "      fill: #D2E3FC;\n",
              "    }\n",
              "\n",
              "    [theme=dark] .colab-df-convert:hover {\n",
              "      background-color: #434B5C;\n",
              "      box-shadow: 0px 1px 3px 1px rgba(0, 0, 0, 0.15);\n",
              "      filter: drop-shadow(0px 1px 2px rgba(0, 0, 0, 0.3));\n",
              "      fill: #FFFFFF;\n",
              "    }\n",
              "  </style>\n",
              "\n",
              "      <script>\n",
              "        const buttonEl =\n",
              "          document.querySelector('#df-ebaa32b1-14a5-47a6-8c20-752f92280d13 button.colab-df-convert');\n",
              "        buttonEl.style.display =\n",
              "          google.colab.kernel.accessAllowed ? 'block' : 'none';\n",
              "\n",
              "        async function convertToInteractive(key) {\n",
              "          const element = document.querySelector('#df-ebaa32b1-14a5-47a6-8c20-752f92280d13');\n",
              "          const dataTable =\n",
              "            await google.colab.kernel.invokeFunction('convertToInteractive',\n",
              "                                                     [key], {});\n",
              "          if (!dataTable) return;\n",
              "\n",
              "          const docLinkHtml = 'Like what you see? Visit the ' +\n",
              "            '<a target=\"_blank\" href=https://colab.research.google.com/notebooks/data_table.ipynb>data table notebook</a>'\n",
              "            + ' to learn more about interactive tables.';\n",
              "          element.innerHTML = '';\n",
              "          dataTable['output_type'] = 'display_data';\n",
              "          await google.colab.output.renderOutput(dataTable, element);\n",
              "          const docLink = document.createElement('div');\n",
              "          docLink.innerHTML = docLinkHtml;\n",
              "          element.appendChild(docLink);\n",
              "        }\n",
              "      </script>\n",
              "    </div>\n",
              "  </div>\n",
              "  "
            ]
          },
          "metadata": {},
          "execution_count": 3
        }
      ]
    },
    {
      "cell_type": "code",
      "source": [
        "test"
      ],
      "metadata": {
        "id": "5I98j9Wi7fD7",
        "outputId": "23950403-f0e0-4250-a76d-ebcdce8fcc81",
        "colab": {
          "base_uri": "https://localhost:8080/",
          "height": 423
        }
      },
      "execution_count": 4,
      "outputs": [
        {
          "output_type": "execute_result",
          "data": {
            "text/plain": [
              "      index  Pregnancies  Glucose  BloodPressure  SkinThickness  Insulin  \\\n",
              "0       398            0      126             80              0        0   \n",
              "1      3833            3       88             60             20        0   \n",
              "2      4836            3      114             76              0        0   \n",
              "3      4572            1      146             74              0        0   \n",
              "4       636            1      123             90             26      140   \n",
              "...     ...          ...      ...            ...            ...      ...   \n",
              "1995   3138            4      150             60              0        0   \n",
              "1996    191            6      153             88              0        0   \n",
              "1997   3294            7      106             78              0        0   \n",
              "1998   3073            2      101             70              0        0   \n",
              "1999    361            5      109             80              0        0   \n",
              "\n",
              "            BMI  DiabetesPedigreeFunction  Age  \n",
              "0     40.096264                  0.822517   21  \n",
              "1     39.810590                  0.204331   22  \n",
              "2     33.198760                  0.521011   21  \n",
              "3     26.890259                  0.504950   38  \n",
              "4     40.270088                  0.800513   28  \n",
              "...         ...                       ...  ...  \n",
              "1995  39.385785                  0.175051   26  \n",
              "1996  38.614204                  0.509367   28  \n",
              "1997  51.678147                  0.728404   29  \n",
              "1998  40.271989                  0.316558   26  \n",
              "1999  51.295811                  0.256684   23  \n",
              "\n",
              "[2000 rows x 9 columns]"
            ],
            "text/html": [
              "\n",
              "  <div id=\"df-4847528e-3bcc-4569-8dff-626761083072\">\n",
              "    <div class=\"colab-df-container\">\n",
              "      <div>\n",
              "<style scoped>\n",
              "    .dataframe tbody tr th:only-of-type {\n",
              "        vertical-align: middle;\n",
              "    }\n",
              "\n",
              "    .dataframe tbody tr th {\n",
              "        vertical-align: top;\n",
              "    }\n",
              "\n",
              "    .dataframe thead th {\n",
              "        text-align: right;\n",
              "    }\n",
              "</style>\n",
              "<table border=\"1\" class=\"dataframe\">\n",
              "  <thead>\n",
              "    <tr style=\"text-align: right;\">\n",
              "      <th></th>\n",
              "      <th>index</th>\n",
              "      <th>Pregnancies</th>\n",
              "      <th>Glucose</th>\n",
              "      <th>BloodPressure</th>\n",
              "      <th>SkinThickness</th>\n",
              "      <th>Insulin</th>\n",
              "      <th>BMI</th>\n",
              "      <th>DiabetesPedigreeFunction</th>\n",
              "      <th>Age</th>\n",
              "    </tr>\n",
              "  </thead>\n",
              "  <tbody>\n",
              "    <tr>\n",
              "      <th>0</th>\n",
              "      <td>398</td>\n",
              "      <td>0</td>\n",
              "      <td>126</td>\n",
              "      <td>80</td>\n",
              "      <td>0</td>\n",
              "      <td>0</td>\n",
              "      <td>40.096264</td>\n",
              "      <td>0.822517</td>\n",
              "      <td>21</td>\n",
              "    </tr>\n",
              "    <tr>\n",
              "      <th>1</th>\n",
              "      <td>3833</td>\n",
              "      <td>3</td>\n",
              "      <td>88</td>\n",
              "      <td>60</td>\n",
              "      <td>20</td>\n",
              "      <td>0</td>\n",
              "      <td>39.810590</td>\n",
              "      <td>0.204331</td>\n",
              "      <td>22</td>\n",
              "    </tr>\n",
              "    <tr>\n",
              "      <th>2</th>\n",
              "      <td>4836</td>\n",
              "      <td>3</td>\n",
              "      <td>114</td>\n",
              "      <td>76</td>\n",
              "      <td>0</td>\n",
              "      <td>0</td>\n",
              "      <td>33.198760</td>\n",
              "      <td>0.521011</td>\n",
              "      <td>21</td>\n",
              "    </tr>\n",
              "    <tr>\n",
              "      <th>3</th>\n",
              "      <td>4572</td>\n",
              "      <td>1</td>\n",
              "      <td>146</td>\n",
              "      <td>74</td>\n",
              "      <td>0</td>\n",
              "      <td>0</td>\n",
              "      <td>26.890259</td>\n",
              "      <td>0.504950</td>\n",
              "      <td>38</td>\n",
              "    </tr>\n",
              "    <tr>\n",
              "      <th>4</th>\n",
              "      <td>636</td>\n",
              "      <td>1</td>\n",
              "      <td>123</td>\n",
              "      <td>90</td>\n",
              "      <td>26</td>\n",
              "      <td>140</td>\n",
              "      <td>40.270088</td>\n",
              "      <td>0.800513</td>\n",
              "      <td>28</td>\n",
              "    </tr>\n",
              "    <tr>\n",
              "      <th>...</th>\n",
              "      <td>...</td>\n",
              "      <td>...</td>\n",
              "      <td>...</td>\n",
              "      <td>...</td>\n",
              "      <td>...</td>\n",
              "      <td>...</td>\n",
              "      <td>...</td>\n",
              "      <td>...</td>\n",
              "      <td>...</td>\n",
              "    </tr>\n",
              "    <tr>\n",
              "      <th>1995</th>\n",
              "      <td>3138</td>\n",
              "      <td>4</td>\n",
              "      <td>150</td>\n",
              "      <td>60</td>\n",
              "      <td>0</td>\n",
              "      <td>0</td>\n",
              "      <td>39.385785</td>\n",
              "      <td>0.175051</td>\n",
              "      <td>26</td>\n",
              "    </tr>\n",
              "    <tr>\n",
              "      <th>1996</th>\n",
              "      <td>191</td>\n",
              "      <td>6</td>\n",
              "      <td>153</td>\n",
              "      <td>88</td>\n",
              "      <td>0</td>\n",
              "      <td>0</td>\n",
              "      <td>38.614204</td>\n",
              "      <td>0.509367</td>\n",
              "      <td>28</td>\n",
              "    </tr>\n",
              "    <tr>\n",
              "      <th>1997</th>\n",
              "      <td>3294</td>\n",
              "      <td>7</td>\n",
              "      <td>106</td>\n",
              "      <td>78</td>\n",
              "      <td>0</td>\n",
              "      <td>0</td>\n",
              "      <td>51.678147</td>\n",
              "      <td>0.728404</td>\n",
              "      <td>29</td>\n",
              "    </tr>\n",
              "    <tr>\n",
              "      <th>1998</th>\n",
              "      <td>3073</td>\n",
              "      <td>2</td>\n",
              "      <td>101</td>\n",
              "      <td>70</td>\n",
              "      <td>0</td>\n",
              "      <td>0</td>\n",
              "      <td>40.271989</td>\n",
              "      <td>0.316558</td>\n",
              "      <td>26</td>\n",
              "    </tr>\n",
              "    <tr>\n",
              "      <th>1999</th>\n",
              "      <td>361</td>\n",
              "      <td>5</td>\n",
              "      <td>109</td>\n",
              "      <td>80</td>\n",
              "      <td>0</td>\n",
              "      <td>0</td>\n",
              "      <td>51.295811</td>\n",
              "      <td>0.256684</td>\n",
              "      <td>23</td>\n",
              "    </tr>\n",
              "  </tbody>\n",
              "</table>\n",
              "<p>2000 rows × 9 columns</p>\n",
              "</div>\n",
              "      <button class=\"colab-df-convert\" onclick=\"convertToInteractive('df-4847528e-3bcc-4569-8dff-626761083072')\"\n",
              "              title=\"Convert this dataframe to an interactive table.\"\n",
              "              style=\"display:none;\">\n",
              "        \n",
              "  <svg xmlns=\"http://www.w3.org/2000/svg\" height=\"24px\"viewBox=\"0 0 24 24\"\n",
              "       width=\"24px\">\n",
              "    <path d=\"M0 0h24v24H0V0z\" fill=\"none\"/>\n",
              "    <path d=\"M18.56 5.44l.94 2.06.94-2.06 2.06-.94-2.06-.94-.94-2.06-.94 2.06-2.06.94zm-11 1L8.5 8.5l.94-2.06 2.06-.94-2.06-.94L8.5 2.5l-.94 2.06-2.06.94zm10 10l.94 2.06.94-2.06 2.06-.94-2.06-.94-.94-2.06-.94 2.06-2.06.94z\"/><path d=\"M17.41 7.96l-1.37-1.37c-.4-.4-.92-.59-1.43-.59-.52 0-1.04.2-1.43.59L10.3 9.45l-7.72 7.72c-.78.78-.78 2.05 0 2.83L4 21.41c.39.39.9.59 1.41.59.51 0 1.02-.2 1.41-.59l7.78-7.78 2.81-2.81c.8-.78.8-2.07 0-2.86zM5.41 20L4 18.59l7.72-7.72 1.47 1.35L5.41 20z\"/>\n",
              "  </svg>\n",
              "      </button>\n",
              "      \n",
              "  <style>\n",
              "    .colab-df-container {\n",
              "      display:flex;\n",
              "      flex-wrap:wrap;\n",
              "      gap: 12px;\n",
              "    }\n",
              "\n",
              "    .colab-df-convert {\n",
              "      background-color: #E8F0FE;\n",
              "      border: none;\n",
              "      border-radius: 50%;\n",
              "      cursor: pointer;\n",
              "      display: none;\n",
              "      fill: #1967D2;\n",
              "      height: 32px;\n",
              "      padding: 0 0 0 0;\n",
              "      width: 32px;\n",
              "    }\n",
              "\n",
              "    .colab-df-convert:hover {\n",
              "      background-color: #E2EBFA;\n",
              "      box-shadow: 0px 1px 2px rgba(60, 64, 67, 0.3), 0px 1px 3px 1px rgba(60, 64, 67, 0.15);\n",
              "      fill: #174EA6;\n",
              "    }\n",
              "\n",
              "    [theme=dark] .colab-df-convert {\n",
              "      background-color: #3B4455;\n",
              "      fill: #D2E3FC;\n",
              "    }\n",
              "\n",
              "    [theme=dark] .colab-df-convert:hover {\n",
              "      background-color: #434B5C;\n",
              "      box-shadow: 0px 1px 3px 1px rgba(0, 0, 0, 0.15);\n",
              "      filter: drop-shadow(0px 1px 2px rgba(0, 0, 0, 0.3));\n",
              "      fill: #FFFFFF;\n",
              "    }\n",
              "  </style>\n",
              "\n",
              "      <script>\n",
              "        const buttonEl =\n",
              "          document.querySelector('#df-4847528e-3bcc-4569-8dff-626761083072 button.colab-df-convert');\n",
              "        buttonEl.style.display =\n",
              "          google.colab.kernel.accessAllowed ? 'block' : 'none';\n",
              "\n",
              "        async function convertToInteractive(key) {\n",
              "          const element = document.querySelector('#df-4847528e-3bcc-4569-8dff-626761083072');\n",
              "          const dataTable =\n",
              "            await google.colab.kernel.invokeFunction('convertToInteractive',\n",
              "                                                     [key], {});\n",
              "          if (!dataTable) return;\n",
              "\n",
              "          const docLinkHtml = 'Like what you see? Visit the ' +\n",
              "            '<a target=\"_blank\" href=https://colab.research.google.com/notebooks/data_table.ipynb>data table notebook</a>'\n",
              "            + ' to learn more about interactive tables.';\n",
              "          element.innerHTML = '';\n",
              "          dataTable['output_type'] = 'display_data';\n",
              "          await google.colab.output.renderOutput(dataTable, element);\n",
              "          const docLink = document.createElement('div');\n",
              "          docLink.innerHTML = docLinkHtml;\n",
              "          element.appendChild(docLink);\n",
              "        }\n",
              "      </script>\n",
              "    </div>\n",
              "  </div>\n",
              "  "
            ]
          },
          "metadata": {},
          "execution_count": 4
        }
      ]
    },
    {
      "cell_type": "markdown",
      "source": [
        "# クレンジングと特徴量の作成"
      ],
      "metadata": {
        "id": "-_MVPmHqWfDn"
      }
    },
    {
      "cell_type": "code",
      "source": [
        "train = train.drop(\"index\", axis=1)\n",
        "test = test.drop(\"index\", axis=1)"
      ],
      "metadata": {
        "id": "SI4LY6r1OvWF"
      },
      "execution_count": 10,
      "outputs": []
    },
    {
      "cell_type": "code",
      "source": [
        "train.isnull()"
      ],
      "metadata": {
        "id": "rSUdrmpT7Pqp"
      },
      "execution_count": null,
      "outputs": []
    },
    {
      "cell_type": "markdown",
      "source": [
        "# モデル構築"
      ],
      "metadata": {
        "id": "4dFpqPxAWl7A"
      }
    },
    {
      "cell_type": "code",
      "source": [
        "X_train = train.drop(['Outcome'], axis=1)\n",
        "y_train = train['Outcome']"
      ],
      "metadata": {
        "id": "D5h4xMXdTblO"
      },
      "execution_count": 13,
      "outputs": []
    },
    {
      "cell_type": "code",
      "source": [
        "import lightgbm as lgb\n",
        "from sklearn.model_selection import train_test_split\n",
        "from sklearn.metrics import accuracy_score\n",
        "\n",
        "#X_trainとy_trainをtrainとvalidに分割\n",
        "train_x, valid_x, train_y, valid_y = train_test_split(X_train, y_train, test_size=0.33, random_state=0)\n",
        "\n",
        "#LightGBMの分類器をインスタンス化\n",
        "gbm = lgb.LGBMClassifier(objective='binary')\n",
        "\n",
        "#trainとvalidを指定し学習\n",
        "gbm.fit(train_x, train_y, eval_set = [(valid_x, valid_y)],\n",
        "        early_stopping_rounds=20, #20回連続でlossが下がらなかったら終了\n",
        "        verbose=10  #10round毎に、lossを表示\n",
        ")\n"
      ],
      "metadata": {
        "colab": {
          "base_uri": "https://localhost:8080/"
        },
        "id": "2y1B5plKM7Uc",
        "outputId": "c2ad05c1-4737-4c0c-dd0f-2fd65e54baa2"
      },
      "execution_count": 15,
      "outputs": [
        {
          "output_type": "stream",
          "name": "stdout",
          "text": [
            "Training until validation scores don't improve for 20 rounds.\n",
            "[10]\tvalid_0's binary_logloss: 0.490868\n",
            "[20]\tvalid_0's binary_logloss: 0.473108\n",
            "[30]\tvalid_0's binary_logloss: 0.46972\n",
            "[40]\tvalid_0's binary_logloss: 0.468288\n",
            "[50]\tvalid_0's binary_logloss: 0.467052\n",
            "Early stopping, best iteration is:\n",
            "[37]\tvalid_0's binary_logloss: 0.466403\n"
          ]
        },
        {
          "output_type": "execute_result",
          "data": {
            "text/plain": [
              "LGBMClassifier(objective='binary')"
            ]
          },
          "metadata": {},
          "execution_count": 15
        }
      ]
    },
    {
      "cell_type": "code",
      "source": [
        ""
      ],
      "metadata": {
        "id": "ZviPk41Z7RSo"
      },
      "execution_count": null,
      "outputs": []
    },
    {
      "cell_type": "code",
      "source": [
        "#valid_xについて推論\n",
        "#out of fold　=　学習に使っているデータ以外の予測\n",
        "oof = gbm.predict(valid_x, num_iteration=gbm.best_iteration_)\n",
        "#正解率\n",
        "print('score', round(accuracy_score(valid_y, oof)*100,2), '%')"
      ],
      "metadata": {
        "colab": {
          "base_uri": "https://localhost:8080/"
        },
        "id": "Mz8A5y5DPt-U",
        "outputId": "765b16f1-973d-46ee-b8ff-17364d49ac33"
      },
      "execution_count": null,
      "outputs": [
        {
          "output_type": "stream",
          "name": "stdout",
          "text": [
            "score 78.79 %\n"
          ]
        }
      ]
    },
    {
      "cell_type": "markdown",
      "source": [
        "# optuna"
      ],
      "metadata": {
        "id": "PEA8-Gmk8vmW"
      }
    },
    {
      "cell_type": "code",
      "source": [
        "!pip3 install optuna"
      ],
      "metadata": {
        "id": "VBlJ4J8U8pPK"
      },
      "execution_count": null,
      "outputs": []
    },
    {
      "cell_type": "code",
      "source": [
        "import optuna\n",
        "import optuna.integration.lightgbm as lgb"
      ],
      "metadata": {
        "id": "6T8NaL6r7Q-S"
      },
      "execution_count": 8,
      "outputs": []
    },
    {
      "cell_type": "code",
      "source": [
        "from sklearn.model_selection import train_test_split\n",
        "from sklearn.metrics import accuracy_score\n",
        "\n",
        "#X_trainとy_trainをtrainとvalidに分割\n",
        "train_x, valid_x, train_y, valid_y = train_test_split(X_train, y_train, test_size=0.33, random_state=0)\n",
        "\n",
        "#LightGBMの分類器をインスタンス化\n",
        "gbm = lgb.LGBMClassifier(objective='binary')\n",
        "\n",
        "#trainとvalidを指定し学習\n",
        "gbm.fit(train_x, train_y, eval_set = [(valid_x, valid_y)],\n",
        "        early_stopping_rounds=20, #20回連続でlossが下がらなかったら終了\n",
        "        verbose=10  #10round毎に、lossを表示\n",
        ")"
      ],
      "metadata": {
        "id": "c_CvsM-k8zD5",
        "outputId": "9e730a2b-8f71-4d79-fd62-81586fd078ff",
        "colab": {
          "base_uri": "https://localhost:8080/"
        }
      },
      "execution_count": 18,
      "outputs": [
        {
          "output_type": "stream",
          "name": "stdout",
          "text": [
            "Training until validation scores don't improve for 20 rounds.\n",
            "[10]\tvalid_0's binary_logloss: 0.490868\n",
            "[20]\tvalid_0's binary_logloss: 0.473108\n",
            "[30]\tvalid_0's binary_logloss: 0.46972\n",
            "[40]\tvalid_0's binary_logloss: 0.468288\n",
            "[50]\tvalid_0's binary_logloss: 0.467052\n",
            "Early stopping, best iteration is:\n",
            "[37]\tvalid_0's binary_logloss: 0.466403\n"
          ]
        },
        {
          "output_type": "execute_result",
          "data": {
            "text/plain": [
              "LGBMClassifier(objective='binary')"
            ]
          },
          "metadata": {},
          "execution_count": 18
        }
      ]
    },
    {
      "cell_type": "code",
      "source": [
        "#valid_xについて推論\n",
        "#out of fold　=　学習に使っているデータ以外の予測\n",
        "oof = gbm.predict(valid_x, num_iteration=gbm.best_iteration_)\n",
        "#正解率\n",
        "print('score', round(accuracy_score(valid_y, oof)*100,2), '%')"
      ],
      "metadata": {
        "id": "0YE8KnOU9n6U",
        "outputId": "cc98423e-2471-426b-b4c4-6f30b94f213c",
        "colab": {
          "base_uri": "https://localhost:8080/"
        }
      },
      "execution_count": 19,
      "outputs": [
        {
          "output_type": "stream",
          "name": "stdout",
          "text": [
            "score 78.79 %\n"
          ]
        }
      ]
    },
    {
      "cell_type": "markdown",
      "source": [
        "# 提出"
      ],
      "metadata": {
        "id": "0WRJr5677L98"
      }
    },
    {
      "cell_type": "code",
      "source": [
        "#testの予測\n",
        "test_pred = gbm.predict(test, num_iteration=gbm.best_iteration_)\n",
        "sub[1] = test_pred  # sample_submitの列1をtest_predに置き換え"
      ],
      "metadata": {
        "id": "srorw4R4TsIf"
      },
      "execution_count": 20,
      "outputs": []
    },
    {
      "cell_type": "code",
      "source": [
        ""
      ],
      "metadata": {
        "id": "NaP9hUPoUDg8"
      },
      "execution_count": null,
      "outputs": []
    }
  ]
}