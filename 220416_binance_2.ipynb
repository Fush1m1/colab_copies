{
  "nbformat": 4,
  "nbformat_minor": 0,
  "metadata": {
    "colab": {
      "name": "220324.ipynb",
      "provenance": [],
      "collapsed_sections": [],
      "include_colab_link": true
    },
    "kernelspec": {
      "display_name": "Python 3",
      "name": "python3"
    }
  },
  "cells": [
    {
      "cell_type": "markdown",
      "metadata": {
        "id": "view-in-github",
        "colab_type": "text"
      },
      "source": [
        "<a href=\"https://colab.research.google.com/github/Fush1m1/colab_copies/blob/main/220416_binance_2.ipynb\" target=\"_parent\"><img src=\"https://colab.research.google.com/assets/colab-badge.svg\" alt=\"Open In Colab\"/></a>"
      ]
    },
    {
      "cell_type": "code",
      "metadata": {
        "id": "5VeEFwlr6YS4"
      },
      "source": [
        "!sudo pip3 install python-binance"
      ],
      "execution_count": null,
      "outputs": []
    },
    {
      "cell_type": "code",
      "metadata": {
        "id": "Wd4GzHWk6zim"
      },
      "source": [
        "help(binance.client)"
      ],
      "execution_count": null,
      "outputs": []
    },
    {
      "cell_type": "code",
      "source": [
        "api_key = \"2lM7uXFEARCctD910fTwLRzMSzKGTL0hAlKffroIsmCSMfxSz0VxxbYEwd7fdX9V\"\n",
        "api_secret = \"mJ3SHKEGYMMiMwOerhw4QT2G9wkfNJdJZvrI55lP1Jz84l4KLUGu0iCCBGMWGaH7\""
      ],
      "metadata": {
        "id": "wyI8GgjsdXUx"
      },
      "execution_count": 2,
      "outputs": []
    },
    {
      "cell_type": "code",
      "source": [
        "import csv\n",
        "import binance.client\n",
        "import logging\n",
        "from binance.client import Client\n",
        "from binance.enums import *\n",
        "import time\n",
        "import re\n",
        "import os\n",
        "from datetime import datetime\n",
        "from datetime import timedelta\n",
        "import pandas as pd\n",
        "#import bt\n",
        "import json\n",
        "import requests\n",
        "\n",
        "\n",
        "import matplotlib.pyplot as plt\n",
        "%matplotlib inline\n",
        "\n",
        "#import mpl_finance\n",
        "#from mpl_finance import candlestick2_ohlc"
      ],
      "metadata": {
        "id": "XbVWNmvfdcun"
      },
      "execution_count": 4,
      "outputs": []
    },
    {
      "cell_type": "code",
      "source": [
        "client = binance.client.Client(api_key, api_secret)"
      ],
      "metadata": {
        "id": "ARzRhA-veZC0"
      },
      "execution_count": 5,
      "outputs": []
    },
    {
      "cell_type": "code",
      "source": [
        ""
      ],
      "metadata": {
        "id": "QdKfMF0JlPVz"
      },
      "execution_count": null,
      "outputs": []
    },
    {
      "cell_type": "markdown",
      "source": [
        "# conditions"
      ],
      "metadata": {
        "id": "K2-_7I2llOxJ"
      }
    },
    {
      "cell_type": "code",
      "source": [
        "print(client.get_asset_balance(asset='BTC'))"
      ],
      "metadata": {
        "colab": {
          "base_uri": "https://localhost:8080/"
        },
        "id": "wu_Uds2-lL8l",
        "outputId": "320f0b4c-7afa-4636-de42-8d815a54d27d"
      },
      "execution_count": null,
      "outputs": [
        {
          "output_type": "stream",
          "name": "stdout",
          "text": [
            "{'asset': 'BTC', 'free': '0.00000000', 'locked': '0.00000000'}\n"
          ]
        }
      ]
    },
    {
      "cell_type": "code",
      "source": [
        "print(client.get_asset_balance(asset='ETH'))"
      ],
      "metadata": {
        "colab": {
          "base_uri": "https://localhost:8080/"
        },
        "id": "XPBkeeOplUJP",
        "outputId": "1712501e-46ea-4609-c598-3689c462fd8b"
      },
      "execution_count": null,
      "outputs": [
        {
          "output_type": "stream",
          "name": "stdout",
          "text": [
            "{'asset': 'ETH', 'free': '0.00000000', 'locked': '0.00000000'}\n"
          ]
        }
      ]
    },
    {
      "cell_type": "code",
      "source": [
        "print(client.get_margin_account())"
      ],
      "metadata": {
        "colab": {
          "base_uri": "https://localhost:8080/"
        },
        "id": "Zxw6NhQUl87b",
        "outputId": "31efe0e9-b61c-42a7-9eb5-04a3df630781"
      },
      "execution_count": null,
      "outputs": [
        {
          "output_type": "stream",
          "name": "stdout",
          "text": [
            "{'tradeEnabled': False, 'transferEnabled': True, 'borrowEnabled': False, 'marginLevel': '999', 'totalAssetOfBtc': '0', 'totalLiabilityOfBtc': '0', 'totalNetAssetOfBtc': '0', 'userAssets': [{'asset': '1INCH', 'free': '0', 'locked': '0', 'borrowed': '0', 'interest': '0', 'netAsset': '0'}, {'asset': 'AAVE', 'free': '0', 'locked': '0', 'borrowed': '0', 'interest': '0', 'netAsset': '0'}, {'asset': 'ADA', 'free': '0', 'locked': '0', 'borrowed': '0', 'interest': '0', 'netAsset': '0'}, {'asset': 'AGLD', 'free': '0', 'locked': '0', 'borrowed': '0', 'interest': '0', 'netAsset': '0'}, {'asset': 'ALGO', 'free': '0', 'locked': '0', 'borrowed': '0', 'interest': '0', 'netAsset': '0'}, {'asset': 'ALICE', 'free': '0', 'locked': '0', 'borrowed': '0', 'interest': '0', 'netAsset': '0'}, {'asset': 'ANC', 'free': '0', 'locked': '0', 'borrowed': '0', 'interest': '0', 'netAsset': '0'}, {'asset': 'ANKR', 'free': '0', 'locked': '0', 'borrowed': '0', 'interest': '0', 'netAsset': '0'}, {'asset': 'ANT', 'free': '0', 'locked': '0', 'borrowed': '0', 'interest': '0', 'netAsset': '0'}, {'asset': 'APE', 'free': '0', 'locked': '0', 'borrowed': '0', 'interest': '0', 'netAsset': '0'}, {'asset': 'AR', 'free': '0', 'locked': '0', 'borrowed': '0', 'interest': '0', 'netAsset': '0'}, {'asset': 'ATOM', 'free': '0', 'locked': '0', 'borrowed': '0', 'interest': '0', 'netAsset': '0'}, {'asset': 'AUDIO', 'free': '0', 'locked': '0', 'borrowed': '0', 'interest': '0', 'netAsset': '0'}, {'asset': 'AVAX', 'free': '0', 'locked': '0', 'borrowed': '0', 'interest': '0', 'netAsset': '0'}, {'asset': 'AXS', 'free': '0', 'locked': '0', 'borrowed': '0', 'interest': '0', 'netAsset': '0'}, {'asset': 'BAKE', 'free': '0', 'locked': '0', 'borrowed': '0', 'interest': '0', 'netAsset': '0'}, {'asset': 'BAT', 'free': '0', 'locked': '0', 'borrowed': '0', 'interest': '0', 'netAsset': '0'}, {'asset': 'BCH', 'free': '0', 'locked': '0', 'borrowed': '0', 'interest': '0', 'netAsset': '0'}, {'asset': 'BETA', 'free': '0', 'locked': '0', 'borrowed': '0', 'interest': '0', 'netAsset': '0'}, {'asset': 'BICO', 'free': '0', 'locked': '0', 'borrowed': '0', 'interest': '0', 'netAsset': '0'}, {'asset': 'BLZ', 'free': '0', 'locked': '0', 'borrowed': '0', 'interest': '0', 'netAsset': '0'}, {'asset': 'BNB', 'free': '0', 'locked': '0', 'borrowed': '0', 'interest': '0', 'netAsset': '0'}, {'asset': 'BNX', 'free': '0', 'locked': '0', 'borrowed': '0', 'interest': '0', 'netAsset': '0'}, {'asset': 'BSW', 'free': '0', 'locked': '0', 'borrowed': '0', 'interest': '0', 'netAsset': '0'}, {'asset': 'BTC', 'free': '0', 'locked': '0', 'borrowed': '0', 'interest': '0', 'netAsset': '0'}, {'asset': 'BUSD', 'free': '0', 'locked': '0', 'borrowed': '0', 'interest': '0', 'netAsset': '0'}, {'asset': 'C98', 'free': '0', 'locked': '0', 'borrowed': '0', 'interest': '0', 'netAsset': '0'}, {'asset': 'CAKE', 'free': '0', 'locked': '0', 'borrowed': '0', 'interest': '0', 'netAsset': '0'}, {'asset': 'CELO', 'free': '0', 'locked': '0', 'borrowed': '0', 'interest': '0', 'netAsset': '0'}, {'asset': 'CHESS', 'free': '0', 'locked': '0', 'borrowed': '0', 'interest': '0', 'netAsset': '0'}, {'asset': 'CHR', 'free': '0', 'locked': '0', 'borrowed': '0', 'interest': '0', 'netAsset': '0'}, {'asset': 'CHZ', 'free': '0', 'locked': '0', 'borrowed': '0', 'interest': '0', 'netAsset': '0'}, {'asset': 'CLV', 'free': '0', 'locked': '0', 'borrowed': '0', 'interest': '0', 'netAsset': '0'}, {'asset': 'COMP', 'free': '0', 'locked': '0', 'borrowed': '0', 'interest': '0', 'netAsset': '0'}, {'asset': 'COTI', 'free': '0', 'locked': '0', 'borrowed': '0', 'interest': '0', 'netAsset': '0'}, {'asset': 'CRV', 'free': '0', 'locked': '0', 'borrowed': '0', 'interest': '0', 'netAsset': '0'}, {'asset': 'CTXC', 'free': '0', 'locked': '0', 'borrowed': '0', 'interest': '0', 'netAsset': '0'}, {'asset': 'CVC', 'free': '0', 'locked': '0', 'borrowed': '0', 'interest': '0', 'netAsset': '0'}, {'asset': 'DAR', 'free': '0', 'locked': '0', 'borrowed': '0', 'interest': '0', 'netAsset': '0'}, {'asset': 'DASH', 'free': '0', 'locked': '0', 'borrowed': '0', 'interest': '0', 'netAsset': '0'}, {'asset': 'DENT', 'free': '0', 'locked': '0', 'borrowed': '0', 'interest': '0', 'netAsset': '0'}, {'asset': 'DOGE', 'free': '0', 'locked': '0', 'borrowed': '0', 'interest': '0', 'netAsset': '0'}, {'asset': 'DOT', 'free': '0', 'locked': '0', 'borrowed': '0', 'interest': '0', 'netAsset': '0'}, {'asset': 'DUSK', 'free': '0', 'locked': '0', 'borrowed': '0', 'interest': '0', 'netAsset': '0'}, {'asset': 'DYDX', 'free': '0', 'locked': '0', 'borrowed': '0', 'interest': '0', 'netAsset': '0'}, {'asset': 'EGLD', 'free': '0', 'locked': '0', 'borrowed': '0', 'interest': '0', 'netAsset': '0'}, {'asset': 'ENJ', 'free': '0', 'locked': '0', 'borrowed': '0', 'interest': '0', 'netAsset': '0'}, {'asset': 'ENS', 'free': '0', 'locked': '0', 'borrowed': '0', 'interest': '0', 'netAsset': '0'}, {'asset': 'EOS', 'free': '0', 'locked': '0', 'borrowed': '0', 'interest': '0', 'netAsset': '0'}, {'asset': 'ETC', 'free': '0', 'locked': '0', 'borrowed': '0', 'interest': '0', 'netAsset': '0'}, {'asset': 'ETH', 'free': '0', 'locked': '0', 'borrowed': '0', 'interest': '0', 'netAsset': '0'}, {'asset': 'FET', 'free': '0', 'locked': '0', 'borrowed': '0', 'interest': '0', 'netAsset': '0'}, {'asset': 'FIL', 'free': '0', 'locked': '0', 'borrowed': '0', 'interest': '0', 'netAsset': '0'}, {'asset': 'FLOW', 'free': '0', 'locked': '0', 'borrowed': '0', 'interest': '0', 'netAsset': '0'}, {'asset': 'FLUX', 'free': '0', 'locked': '0', 'borrowed': '0', 'interest': '0', 'netAsset': '0'}, {'asset': 'FRONT', 'free': '0', 'locked': '0', 'borrowed': '0', 'interest': '0', 'netAsset': '0'}, {'asset': 'FTM', 'free': '0', 'locked': '0', 'borrowed': '0', 'interest': '0', 'netAsset': '0'}, {'asset': 'FTT', 'free': '0', 'locked': '0', 'borrowed': '0', 'interest': '0', 'netAsset': '0'}, {'asset': 'GALA', 'free': '0', 'locked': '0', 'borrowed': '0', 'interest': '0', 'netAsset': '0'}, {'asset': 'GMT', 'free': '0', 'locked': '0', 'borrowed': '0', 'interest': '0', 'netAsset': '0'}, {'asset': 'GRT', 'free': '0', 'locked': '0', 'borrowed': '0', 'interest': '0', 'netAsset': '0'}, {'asset': 'GTC', 'free': '0', 'locked': '0', 'borrowed': '0', 'interest': '0', 'netAsset': '0'}, {'asset': 'GXS', 'free': '0', 'locked': '0', 'borrowed': '0', 'interest': '0', 'netAsset': '0'}, {'asset': 'HBAR', 'free': '0', 'locked': '0', 'borrowed': '0', 'interest': '0', 'netAsset': '0'}, {'asset': 'HIVE', 'free': '0', 'locked': '0', 'borrowed': '0', 'interest': '0', 'netAsset': '0'}, {'asset': 'HNT', 'free': '0', 'locked': '0', 'borrowed': '0', 'interest': '0', 'netAsset': '0'}, {'asset': 'HOT', 'free': '0', 'locked': '0', 'borrowed': '0', 'interest': '0', 'netAsset': '0'}, {'asset': 'ICP', 'free': '0', 'locked': '0', 'borrowed': '0', 'interest': '0', 'netAsset': '0'}, {'asset': 'ICX', 'free': '0', 'locked': '0', 'borrowed': '0', 'interest': '0', 'netAsset': '0'}, {'asset': 'IDEX', 'free': '0', 'locked': '0', 'borrowed': '0', 'interest': '0', 'netAsset': '0'}, {'asset': 'IOST', 'free': '0', 'locked': '0', 'borrowed': '0', 'interest': '0', 'netAsset': '0'}, {'asset': 'IOTA', 'free': '0', 'locked': '0', 'borrowed': '0', 'interest': '0', 'netAsset': '0'}, {'asset': 'IOTX', 'free': '0', 'locked': '0', 'borrowed': '0', 'interest': '0', 'netAsset': '0'}, {'asset': 'JASMY', 'free': '0', 'locked': '0', 'borrowed': '0', 'interest': '0', 'netAsset': '0'}, {'asset': 'KAVA', 'free': '0', 'locked': '0', 'borrowed': '0', 'interest': '0', 'netAsset': '0'}, {'asset': 'KEY', 'free': '0', 'locked': '0', 'borrowed': '0', 'interest': '0', 'netAsset': '0'}, {'asset': 'KLAY', 'free': '0', 'locked': '0', 'borrowed': '0', 'interest': '0', 'netAsset': '0'}, {'asset': 'KSM', 'free': '0', 'locked': '0', 'borrowed': '0', 'interest': '0', 'netAsset': '0'}, {'asset': 'LINA', 'free': '0', 'locked': '0', 'borrowed': '0', 'interest': '0', 'netAsset': '0'}, {'asset': 'LINK', 'free': '0', 'locked': '0', 'borrowed': '0', 'interest': '0', 'netAsset': '0'}, {'asset': 'LPT', 'free': '0', 'locked': '0', 'borrowed': '0', 'interest': '0', 'netAsset': '0'}, {'asset': 'LRC', 'free': '0', 'locked': '0', 'borrowed': '0', 'interest': '0', 'netAsset': '0'}, {'asset': 'LTC', 'free': '0', 'locked': '0', 'borrowed': '0', 'interest': '0', 'netAsset': '0'}, {'asset': 'LUNA', 'free': '0', 'locked': '0', 'borrowed': '0', 'interest': '0', 'netAsset': '0'}, {'asset': 'MANA', 'free': '0', 'locked': '0', 'borrowed': '0', 'interest': '0', 'netAsset': '0'}, {'asset': 'MASK', 'free': '0', 'locked': '0', 'borrowed': '0', 'interest': '0', 'netAsset': '0'}, {'asset': 'MATIC', 'free': '0', 'locked': '0', 'borrowed': '0', 'interest': '0', 'netAsset': '0'}, {'asset': 'MBOX', 'free': '0', 'locked': '0', 'borrowed': '0', 'interest': '0', 'netAsset': '0'}, {'asset': 'MDT', 'free': '0', 'locked': '0', 'borrowed': '0', 'interest': '0', 'netAsset': '0'}, {'asset': 'MINA', 'free': '0', 'locked': '0', 'borrowed': '0', 'interest': '0', 'netAsset': '0'}, {'asset': 'MIR', 'free': '0', 'locked': '0', 'borrowed': '0', 'interest': '0', 'netAsset': '0'}, {'asset': 'MTL', 'free': '0', 'locked': '0', 'borrowed': '0', 'interest': '0', 'netAsset': '0'}, {'asset': 'NEAR', 'free': '0', 'locked': '0', 'borrowed': '0', 'interest': '0', 'netAsset': '0'}, {'asset': 'NEO', 'free': '0', 'locked': '0', 'borrowed': '0', 'interest': '0', 'netAsset': '0'}, {'asset': 'OMG', 'free': '0', 'locked': '0', 'borrowed': '0', 'interest': '0', 'netAsset': '0'}, {'asset': 'ONE', 'free': '0', 'locked': '0', 'borrowed': '0', 'interest': '0', 'netAsset': '0'}, {'asset': 'ONT', 'free': '0', 'locked': '0', 'borrowed': '0', 'interest': '0', 'netAsset': '0'}, {'asset': 'PAXG', 'free': '0', 'locked': '0', 'borrowed': '0', 'interest': '0', 'netAsset': '0'}, {'asset': 'PEOPLE', 'free': '0', 'locked': '0', 'borrowed': '0', 'interest': '0', 'netAsset': '0'}, {'asset': 'POLS', 'free': '0', 'locked': '0', 'borrowed': '0', 'interest': '0', 'netAsset': '0'}, {'asset': 'POND', 'free': '0', 'locked': '0', 'borrowed': '0', 'interest': '0', 'netAsset': '0'}, {'asset': 'PYR', 'free': '0', 'locked': '0', 'borrowed': '0', 'interest': '0', 'netAsset': '0'}, {'asset': 'QI', 'free': '0', 'locked': '0', 'borrowed': '0', 'interest': '0', 'netAsset': '0'}, {'asset': 'QNT', 'free': '0', 'locked': '0', 'borrowed': '0', 'interest': '0', 'netAsset': '0'}, {'asset': 'QTUM', 'free': '0', 'locked': '0', 'borrowed': '0', 'interest': '0', 'netAsset': '0'}, {'asset': 'QUICK', 'free': '0', 'locked': '0', 'borrowed': '0', 'interest': '0', 'netAsset': '0'}, {'asset': 'RAD', 'free': '0', 'locked': '0', 'borrowed': '0', 'interest': '0', 'netAsset': '0'}, {'asset': 'RARE', 'free': '0', 'locked': '0', 'borrowed': '0', 'interest': '0', 'netAsset': '0'}, {'asset': 'RAY', 'free': '0', 'locked': '0', 'borrowed': '0', 'interest': '0', 'netAsset': '0'}, {'asset': 'REEF', 'free': '0', 'locked': '0', 'borrowed': '0', 'interest': '0', 'netAsset': '0'}, {'asset': 'RNDR', 'free': '0', 'locked': '0', 'borrowed': '0', 'interest': '0', 'netAsset': '0'}, {'asset': 'ROSE', 'free': '0', 'locked': '0', 'borrowed': '0', 'interest': '0', 'netAsset': '0'}, {'asset': 'RUNE', 'free': '0', 'locked': '0', 'borrowed': '0', 'interest': '0', 'netAsset': '0'}, {'asset': 'RVN', 'free': '0', 'locked': '0', 'borrowed': '0', 'interest': '0', 'netAsset': '0'}, {'asset': 'SAND', 'free': '0', 'locked': '0', 'borrowed': '0', 'interest': '0', 'netAsset': '0'}, {'asset': 'SFP', 'free': '0', 'locked': '0', 'borrowed': '0', 'interest': '0', 'netAsset': '0'}, {'asset': 'SHIB', 'free': '0', 'locked': '0', 'borrowed': '0', 'interest': '0', 'netAsset': '0'}, {'asset': 'SKL', 'free': '0', 'locked': '0', 'borrowed': '0', 'interest': '0', 'netAsset': '0'}, {'asset': 'SLP', 'free': '0', 'locked': '0', 'borrowed': '0', 'interest': '0', 'netAsset': '0'}, {'asset': 'SNX', 'free': '0', 'locked': '0', 'borrowed': '0', 'interest': '0', 'netAsset': '0'}, {'asset': 'SOL', 'free': '0', 'locked': '0', 'borrowed': '0', 'interest': '0', 'netAsset': '0'}, {'asset': 'STPT', 'free': '0', 'locked': '0', 'borrowed': '0', 'interest': '0', 'netAsset': '0'}, {'asset': 'SUN', 'free': '0', 'locked': '0', 'borrowed': '0', 'interest': '0', 'netAsset': '0'}, {'asset': 'SUPER', 'free': '0', 'locked': '0', 'borrowed': '0', 'interest': '0', 'netAsset': '0'}, {'asset': 'SUSHI', 'free': '0', 'locked': '0', 'borrowed': '0', 'interest': '0', 'netAsset': '0'}, {'asset': 'SXP', 'free': '0', 'locked': '0', 'borrowed': '0', 'interest': '0', 'netAsset': '0'}, {'asset': 'TFUEL', 'free': '0', 'locked': '0', 'borrowed': '0', 'interest': '0', 'netAsset': '0'}, {'asset': 'THETA', 'free': '0', 'locked': '0', 'borrowed': '0', 'interest': '0', 'netAsset': '0'}, {'asset': 'TLM', 'free': '0', 'locked': '0', 'borrowed': '0', 'interest': '0', 'netAsset': '0'}, {'asset': 'TRIBE', 'free': '0', 'locked': '0', 'borrowed': '0', 'interest': '0', 'netAsset': '0'}, {'asset': 'TRX', 'free': '0', 'locked': '0', 'borrowed': '0', 'interest': '0', 'netAsset': '0'}, {'asset': 'TWT', 'free': '0', 'locked': '0', 'borrowed': '0', 'interest': '0', 'netAsset': '0'}, {'asset': 'UNFI', 'free': '0', 'locked': '0', 'borrowed': '0', 'interest': '0', 'netAsset': '0'}, {'asset': 'UNI', 'free': '0', 'locked': '0', 'borrowed': '0', 'interest': '0', 'netAsset': '0'}, {'asset': 'USDC', 'free': '0', 'locked': '0', 'borrowed': '0', 'interest': '0', 'netAsset': '0'}, {'asset': 'USDT', 'free': '0', 'locked': '0', 'borrowed': '0', 'interest': '0', 'netAsset': '0'}, {'asset': 'VET', 'free': '0', 'locked': '0', 'borrowed': '0', 'interest': '0', 'netAsset': '0'}, {'asset': 'VOXEL', 'free': '0', 'locked': '0', 'borrowed': '0', 'interest': '0', 'netAsset': '0'}, {'asset': 'WAN', 'free': '0', 'locked': '0', 'borrowed': '0', 'interest': '0', 'netAsset': '0'}, {'asset': 'WAVES', 'free': '0', 'locked': '0', 'borrowed': '0', 'interest': '0', 'netAsset': '0'}, {'asset': 'WAXP', 'free': '0', 'locked': '0', 'borrowed': '0', 'interest': '0', 'netAsset': '0'}, {'asset': 'WIN', 'free': '0', 'locked': '0', 'borrowed': '0', 'interest': '0', 'netAsset': '0'}, {'asset': 'XEC', 'free': '0', 'locked': '0', 'borrowed': '0', 'interest': '0', 'netAsset': '0'}, {'asset': 'XLM', 'free': '0', 'locked': '0', 'borrowed': '0', 'interest': '0', 'netAsset': '0'}, {'asset': 'XMR', 'free': '0', 'locked': '0', 'borrowed': '0', 'interest': '0', 'netAsset': '0'}, {'asset': 'XRP', 'free': '0', 'locked': '0', 'borrowed': '0', 'interest': '0', 'netAsset': '0'}, {'asset': 'XTZ', 'free': '0', 'locked': '0', 'borrowed': '0', 'interest': '0', 'netAsset': '0'}, {'asset': 'YFI', 'free': '0', 'locked': '0', 'borrowed': '0', 'interest': '0', 'netAsset': '0'}, {'asset': 'YFII', 'free': '0', 'locked': '0', 'borrowed': '0', 'interest': '0', 'netAsset': '0'}, {'asset': 'YGG', 'free': '0', 'locked': '0', 'borrowed': '0', 'interest': '0', 'netAsset': '0'}, {'asset': 'ZEC', 'free': '0', 'locked': '0', 'borrowed': '0', 'interest': '0', 'netAsset': '0'}, {'asset': 'ZIL', 'free': '0', 'locked': '0', 'borrowed': '0', 'interest': '0', 'netAsset': '0'}]}\n"
          ]
        }
      ]
    },
    {
      "cell_type": "markdown",
      "source": [
        "# 新しいセクション"
      ],
      "metadata": {
        "id": "rOccJi2VlSFP"
      }
    },
    {
      "cell_type": "code",
      "source": [
        "from binance.exceptions import BinanceAPIException, BinanceOrderException"
      ],
      "metadata": {
        "id": "ug-FQeKUlOVz"
      },
      "execution_count": null,
      "outputs": []
    },
    {
      "cell_type": "code",
      "source": [
        "try:\n",
        "    buy_limit = client.create_order(\n",
        "        symbol='ETHUSDT',\n",
        "        side='BUY',\n",
        "        type='LIMIT',\n",
        "        timeInForce='GTC',\n",
        "        quantity=100,\n",
        "        price=200)\n",
        "\n",
        "except BinanceAPIException as e:\n",
        "    # error handling goes here\n",
        "    print(e)\n",
        "except BinanceOrderException as e:\n",
        "    # error handling goes here\n",
        "    print(e)"
      ],
      "metadata": {
        "colab": {
          "base_uri": "https://localhost:8080/"
        },
        "id": "RQlBXfhwqRp_",
        "outputId": "c8aeb442-7065-4f12-f990-367582872145"
      },
      "execution_count": null,
      "outputs": [
        {
          "output_type": "stream",
          "name": "stdout",
          "text": [
            "APIError(code=-1013): Filter failure: PERCENT_PRICE\n"
          ]
        }
      ]
    },
    {
      "cell_type": "code",
      "source": [
        "# create a real order if the test orders did not raise an exception\n",
        "\n",
        "try:\n",
        "    buy_limit = client.create_test_order(\n",
        "        symbol='ETHUSDT',\n",
        "        side='BUY',\n",
        "        type='LIMIT',\n",
        "        timeInForce='GTC',\n",
        "        quantity=100,\n",
        "        price=200)\n",
        "\n",
        "except BinanceAPIException as e:\n",
        "    # error handling goes here\n",
        "    print(e)\n",
        "except BinanceOrderException as e:\n",
        "    # error handling goes here\n",
        "    print(e)"
      ],
      "metadata": {
        "colab": {
          "base_uri": "https://localhost:8080/"
        },
        "id": "C67u3_k_oy_K",
        "outputId": "d3a0d24a-98b8-4d7b-cb8b-d93c75bac4bc"
      },
      "execution_count": null,
      "outputs": [
        {
          "output_type": "stream",
          "name": "stdout",
          "text": [
            "APIError(code=-1013): Filter failure: PERCENT_PRICE\n"
          ]
        }
      ]
    },
    {
      "cell_type": "code",
      "source": [
        "try:\n",
        "    avg_price = float(client.get_avg_price(symbol=\"ETHGBP\")['price'])\n",
        "    logging.info(f\"Test Buy at {avg_price}\")\n",
        "    order = client.create_test_order(\n",
        "            symbol=\"ETHGBP\",\n",
        "            side=SIDE_BUY,\n",
        "            type=ORDER_TYPE_LIMIT,\n",
        "            timeInForce=TIME_IN_FORCE_GTC,\n",
        "            quantity=100,\n",
        "            price=\"{:.2f}\".format(float(avg_price)))\n",
        "    logging.info(order)\n",
        "except Exception as e:\n",
        "    logging.error(f\"Exception occurred: {e}\", exc_info=True)\n",
        "    quit()"
      ],
      "metadata": {
        "colab": {
          "base_uri": "https://localhost:8080/"
        },
        "id": "qQRWzjrYefmC",
        "outputId": "01eda72e-23c7-43a1-e37e-54c93e56bd0e"
      },
      "execution_count": null,
      "outputs": [
        {
          "output_type": "stream",
          "name": "stderr",
          "text": [
            "ERROR:root:Exception occurred: 'NoneType' object has no attribute 'encode'\n",
            "Traceback (most recent call last):\n",
            "  File \"<ipython-input-40-1a1df95f0fa3>\", line 10, in <module>\n",
            "    price=\"{:.2f}\".format(float(avg_price)))\n",
            "  File \"/usr/local/lib/python3.7/dist-packages/binance/client.py\", line 1763, in create_test_order\n",
            "    return self._post('order/test', True, data=params)\n",
            "  File \"/usr/local/lib/python3.7/dist-packages/binance/client.py\", line 374, in _post\n",
            "    return self._request_api('post', path, signed, version, **kwargs)\n",
            "  File \"/usr/local/lib/python3.7/dist-packages/binance/client.py\", line 334, in _request_api\n",
            "    return self._request(method, uri, signed, **kwargs)\n",
            "  File \"/usr/local/lib/python3.7/dist-packages/binance/client.py\", line 312, in _request\n",
            "    kwargs = self._get_request_kwargs(method, signed, force_params, **kwargs)\n",
            "  File \"/usr/local/lib/python3.7/dist-packages/binance/client.py\", line 270, in _get_request_kwargs\n",
            "    kwargs['data']['signature'] = self._generate_signature(kwargs['data'])\n",
            "  File \"/usr/local/lib/python3.7/dist-packages/binance/client.py\", line 223, in _generate_signature\n",
            "    m = hmac.new(self.API_SECRET.encode('utf-8'), query_string.encode('utf-8'), hashlib.sha256)\n",
            "AttributeError: 'NoneType' object has no attribute 'encode'\n"
          ]
        }
      ]
    },
    {
      "cell_type": "code",
      "source": [
        "try:\n",
        "    order = client.create_test_order(\n",
        "        symbol='ETHUSDT',\n",
        "        side='SELL',\n",
        "        quantity=100,\n",
        "        price=250,\n",
        "        stopPrice=150,\n",
        "        stopLimitPrice=150\n",
        "    )\n",
        "    \n",
        "\n",
        "except BinanceAPIException as e:\n",
        "    # error handling goes here\n",
        "    print(e)\n",
        "except BinanceOrderException as e:\n",
        "    # error handling goes here\n",
        "    print(e)"
      ],
      "metadata": {
        "colab": {
          "base_uri": "https://localhost:8080/",
          "height": 401
        },
        "id": "QT740cKphdSw",
        "outputId": "322f112a-5e38-4eb9-bb5b-2b79a1096d4a"
      },
      "execution_count": null,
      "outputs": [
        {
          "output_type": "error",
          "ename": "AttributeError",
          "evalue": "ignored",
          "traceback": [
            "\u001b[0;31m---------------------------------------------------------------------------\u001b[0m",
            "\u001b[0;31mAttributeError\u001b[0m                            Traceback (most recent call last)",
            "\u001b[0;32m<ipython-input-37-d09545e9787a>\u001b[0m in \u001b[0;36m<module>\u001b[0;34m()\u001b[0m\n\u001b[1;32m      7\u001b[0m         \u001b[0mstopPrice\u001b[0m\u001b[0;34m=\u001b[0m\u001b[0;36m150\u001b[0m\u001b[0;34m,\u001b[0m\u001b[0;34m\u001b[0m\u001b[0;34m\u001b[0m\u001b[0m\n\u001b[1;32m      8\u001b[0m         \u001b[0mstopLimitPrice\u001b[0m\u001b[0;34m=\u001b[0m\u001b[0;36m150\u001b[0m\u001b[0;34m,\u001b[0m\u001b[0;34m\u001b[0m\u001b[0;34m\u001b[0m\u001b[0m\n\u001b[0;32m----> 9\u001b[0;31m         stopLimitTimeInForce='GTC')\n\u001b[0m\u001b[1;32m     10\u001b[0m \u001b[0;34m\u001b[0m\u001b[0m\n\u001b[1;32m     11\u001b[0m \u001b[0;32mexcept\u001b[0m \u001b[0mBinanceAPIException\u001b[0m \u001b[0;32mas\u001b[0m \u001b[0me\u001b[0m\u001b[0;34m:\u001b[0m\u001b[0;34m\u001b[0m\u001b[0;34m\u001b[0m\u001b[0m\n",
            "\u001b[0;32m/usr/local/lib/python3.7/dist-packages/binance/client.py\u001b[0m in \u001b[0;36mcreate_test_order\u001b[0;34m(self, **params)\u001b[0m\n\u001b[1;32m   1761\u001b[0m \u001b[0;34m\u001b[0m\u001b[0m\n\u001b[1;32m   1762\u001b[0m         \"\"\"\n\u001b[0;32m-> 1763\u001b[0;31m         \u001b[0;32mreturn\u001b[0m \u001b[0mself\u001b[0m\u001b[0;34m.\u001b[0m\u001b[0m_post\u001b[0m\u001b[0;34m(\u001b[0m\u001b[0;34m'order/test'\u001b[0m\u001b[0;34m,\u001b[0m \u001b[0;32mTrue\u001b[0m\u001b[0;34m,\u001b[0m \u001b[0mdata\u001b[0m\u001b[0;34m=\u001b[0m\u001b[0mparams\u001b[0m\u001b[0;34m)\u001b[0m\u001b[0;34m\u001b[0m\u001b[0;34m\u001b[0m\u001b[0m\n\u001b[0m\u001b[1;32m   1764\u001b[0m \u001b[0;34m\u001b[0m\u001b[0m\n\u001b[1;32m   1765\u001b[0m     \u001b[0;32mdef\u001b[0m \u001b[0mget_order\u001b[0m\u001b[0;34m(\u001b[0m\u001b[0mself\u001b[0m\u001b[0;34m,\u001b[0m \u001b[0;34m**\u001b[0m\u001b[0mparams\u001b[0m\u001b[0;34m)\u001b[0m\u001b[0;34m:\u001b[0m\u001b[0;34m\u001b[0m\u001b[0;34m\u001b[0m\u001b[0m\n",
            "\u001b[0;32m/usr/local/lib/python3.7/dist-packages/binance/client.py\u001b[0m in \u001b[0;36m_post\u001b[0;34m(self, path, signed, version, **kwargs)\u001b[0m\n\u001b[1;32m    372\u001b[0m \u001b[0;34m\u001b[0m\u001b[0m\n\u001b[1;32m    373\u001b[0m     \u001b[0;32mdef\u001b[0m \u001b[0m_post\u001b[0m\u001b[0;34m(\u001b[0m\u001b[0mself\u001b[0m\u001b[0;34m,\u001b[0m \u001b[0mpath\u001b[0m\u001b[0;34m,\u001b[0m \u001b[0msigned\u001b[0m\u001b[0;34m=\u001b[0m\u001b[0;32mFalse\u001b[0m\u001b[0;34m,\u001b[0m \u001b[0mversion\u001b[0m\u001b[0;34m=\u001b[0m\u001b[0mBaseClient\u001b[0m\u001b[0;34m.\u001b[0m\u001b[0mPUBLIC_API_VERSION\u001b[0m\u001b[0;34m,\u001b[0m \u001b[0;34m**\u001b[0m\u001b[0mkwargs\u001b[0m\u001b[0;34m)\u001b[0m \u001b[0;34m->\u001b[0m \u001b[0mDict\u001b[0m\u001b[0;34m:\u001b[0m\u001b[0;34m\u001b[0m\u001b[0;34m\u001b[0m\u001b[0m\n\u001b[0;32m--> 374\u001b[0;31m         \u001b[0;32mreturn\u001b[0m \u001b[0mself\u001b[0m\u001b[0;34m.\u001b[0m\u001b[0m_request_api\u001b[0m\u001b[0;34m(\u001b[0m\u001b[0;34m'post'\u001b[0m\u001b[0;34m,\u001b[0m \u001b[0mpath\u001b[0m\u001b[0;34m,\u001b[0m \u001b[0msigned\u001b[0m\u001b[0;34m,\u001b[0m \u001b[0mversion\u001b[0m\u001b[0;34m,\u001b[0m \u001b[0;34m**\u001b[0m\u001b[0mkwargs\u001b[0m\u001b[0;34m)\u001b[0m\u001b[0;34m\u001b[0m\u001b[0;34m\u001b[0m\u001b[0m\n\u001b[0m\u001b[1;32m    375\u001b[0m \u001b[0;34m\u001b[0m\u001b[0m\n\u001b[1;32m    376\u001b[0m     \u001b[0;32mdef\u001b[0m \u001b[0m_put\u001b[0m\u001b[0;34m(\u001b[0m\u001b[0mself\u001b[0m\u001b[0;34m,\u001b[0m \u001b[0mpath\u001b[0m\u001b[0;34m,\u001b[0m \u001b[0msigned\u001b[0m\u001b[0;34m=\u001b[0m\u001b[0;32mFalse\u001b[0m\u001b[0;34m,\u001b[0m \u001b[0mversion\u001b[0m\u001b[0;34m=\u001b[0m\u001b[0mBaseClient\u001b[0m\u001b[0;34m.\u001b[0m\u001b[0mPUBLIC_API_VERSION\u001b[0m\u001b[0;34m,\u001b[0m \u001b[0;34m**\u001b[0m\u001b[0mkwargs\u001b[0m\u001b[0;34m)\u001b[0m \u001b[0;34m->\u001b[0m \u001b[0mDict\u001b[0m\u001b[0;34m:\u001b[0m\u001b[0;34m\u001b[0m\u001b[0;34m\u001b[0m\u001b[0m\n",
            "\u001b[0;32m/usr/local/lib/python3.7/dist-packages/binance/client.py\u001b[0m in \u001b[0;36m_request_api\u001b[0;34m(self, method, path, signed, version, **kwargs)\u001b[0m\n\u001b[1;32m    332\u001b[0m     ):\n\u001b[1;32m    333\u001b[0m         \u001b[0muri\u001b[0m \u001b[0;34m=\u001b[0m \u001b[0mself\u001b[0m\u001b[0;34m.\u001b[0m\u001b[0m_create_api_uri\u001b[0m\u001b[0;34m(\u001b[0m\u001b[0mpath\u001b[0m\u001b[0;34m,\u001b[0m \u001b[0msigned\u001b[0m\u001b[0;34m,\u001b[0m \u001b[0mversion\u001b[0m\u001b[0;34m)\u001b[0m\u001b[0;34m\u001b[0m\u001b[0;34m\u001b[0m\u001b[0m\n\u001b[0;32m--> 334\u001b[0;31m         \u001b[0;32mreturn\u001b[0m \u001b[0mself\u001b[0m\u001b[0;34m.\u001b[0m\u001b[0m_request\u001b[0m\u001b[0;34m(\u001b[0m\u001b[0mmethod\u001b[0m\u001b[0;34m,\u001b[0m \u001b[0muri\u001b[0m\u001b[0;34m,\u001b[0m \u001b[0msigned\u001b[0m\u001b[0;34m,\u001b[0m \u001b[0;34m**\u001b[0m\u001b[0mkwargs\u001b[0m\u001b[0;34m)\u001b[0m\u001b[0;34m\u001b[0m\u001b[0;34m\u001b[0m\u001b[0m\n\u001b[0m\u001b[1;32m    335\u001b[0m \u001b[0;34m\u001b[0m\u001b[0m\n\u001b[1;32m    336\u001b[0m     \u001b[0;32mdef\u001b[0m \u001b[0m_request_futures_api\u001b[0m\u001b[0;34m(\u001b[0m\u001b[0mself\u001b[0m\u001b[0;34m,\u001b[0m \u001b[0mmethod\u001b[0m\u001b[0;34m,\u001b[0m \u001b[0mpath\u001b[0m\u001b[0;34m,\u001b[0m \u001b[0msigned\u001b[0m\u001b[0;34m=\u001b[0m\u001b[0;32mFalse\u001b[0m\u001b[0;34m,\u001b[0m \u001b[0;34m**\u001b[0m\u001b[0mkwargs\u001b[0m\u001b[0;34m)\u001b[0m \u001b[0;34m->\u001b[0m \u001b[0mDict\u001b[0m\u001b[0;34m:\u001b[0m\u001b[0;34m\u001b[0m\u001b[0;34m\u001b[0m\u001b[0m\n",
            "\u001b[0;32m/usr/local/lib/python3.7/dist-packages/binance/client.py\u001b[0m in \u001b[0;36m_request\u001b[0;34m(self, method, uri, signed, force_params, **kwargs)\u001b[0m\n\u001b[1;32m    310\u001b[0m     \u001b[0;32mdef\u001b[0m \u001b[0m_request\u001b[0m\u001b[0;34m(\u001b[0m\u001b[0mself\u001b[0m\u001b[0;34m,\u001b[0m \u001b[0mmethod\u001b[0m\u001b[0;34m,\u001b[0m \u001b[0muri\u001b[0m\u001b[0;34m:\u001b[0m \u001b[0mstr\u001b[0m\u001b[0;34m,\u001b[0m \u001b[0msigned\u001b[0m\u001b[0;34m:\u001b[0m \u001b[0mbool\u001b[0m\u001b[0;34m,\u001b[0m \u001b[0mforce_params\u001b[0m\u001b[0;34m:\u001b[0m \u001b[0mbool\u001b[0m \u001b[0;34m=\u001b[0m \u001b[0;32mFalse\u001b[0m\u001b[0;34m,\u001b[0m \u001b[0;34m**\u001b[0m\u001b[0mkwargs\u001b[0m\u001b[0;34m)\u001b[0m\u001b[0;34m:\u001b[0m\u001b[0;34m\u001b[0m\u001b[0;34m\u001b[0m\u001b[0m\n\u001b[1;32m    311\u001b[0m \u001b[0;34m\u001b[0m\u001b[0m\n\u001b[0;32m--> 312\u001b[0;31m         \u001b[0mkwargs\u001b[0m \u001b[0;34m=\u001b[0m \u001b[0mself\u001b[0m\u001b[0;34m.\u001b[0m\u001b[0m_get_request_kwargs\u001b[0m\u001b[0;34m(\u001b[0m\u001b[0mmethod\u001b[0m\u001b[0;34m,\u001b[0m \u001b[0msigned\u001b[0m\u001b[0;34m,\u001b[0m \u001b[0mforce_params\u001b[0m\u001b[0;34m,\u001b[0m \u001b[0;34m**\u001b[0m\u001b[0mkwargs\u001b[0m\u001b[0;34m)\u001b[0m\u001b[0;34m\u001b[0m\u001b[0;34m\u001b[0m\u001b[0m\n\u001b[0m\u001b[1;32m    313\u001b[0m \u001b[0;34m\u001b[0m\u001b[0m\n\u001b[1;32m    314\u001b[0m         \u001b[0mself\u001b[0m\u001b[0;34m.\u001b[0m\u001b[0mresponse\u001b[0m \u001b[0;34m=\u001b[0m \u001b[0mgetattr\u001b[0m\u001b[0;34m(\u001b[0m\u001b[0mself\u001b[0m\u001b[0;34m.\u001b[0m\u001b[0msession\u001b[0m\u001b[0;34m,\u001b[0m \u001b[0mmethod\u001b[0m\u001b[0;34m)\u001b[0m\u001b[0;34m(\u001b[0m\u001b[0muri\u001b[0m\u001b[0;34m,\u001b[0m \u001b[0;34m**\u001b[0m\u001b[0mkwargs\u001b[0m\u001b[0;34m)\u001b[0m\u001b[0;34m\u001b[0m\u001b[0;34m\u001b[0m\u001b[0m\n",
            "\u001b[0;32m/usr/local/lib/python3.7/dist-packages/binance/client.py\u001b[0m in \u001b[0;36m_get_request_kwargs\u001b[0;34m(self, method, signed, force_params, **kwargs)\u001b[0m\n\u001b[1;32m    268\u001b[0m             \u001b[0;31m# generate signature\u001b[0m\u001b[0;34m\u001b[0m\u001b[0;34m\u001b[0m\u001b[0;34m\u001b[0m\u001b[0m\n\u001b[1;32m    269\u001b[0m             \u001b[0mkwargs\u001b[0m\u001b[0;34m[\u001b[0m\u001b[0;34m'data'\u001b[0m\u001b[0;34m]\u001b[0m\u001b[0;34m[\u001b[0m\u001b[0;34m'timestamp'\u001b[0m\u001b[0;34m]\u001b[0m \u001b[0;34m=\u001b[0m \u001b[0mint\u001b[0m\u001b[0;34m(\u001b[0m\u001b[0mtime\u001b[0m\u001b[0;34m.\u001b[0m\u001b[0mtime\u001b[0m\u001b[0;34m(\u001b[0m\u001b[0;34m)\u001b[0m \u001b[0;34m*\u001b[0m \u001b[0;36m1000\u001b[0m \u001b[0;34m+\u001b[0m \u001b[0mself\u001b[0m\u001b[0;34m.\u001b[0m\u001b[0mtimestamp_offset\u001b[0m\u001b[0;34m)\u001b[0m\u001b[0;34m\u001b[0m\u001b[0;34m\u001b[0m\u001b[0m\n\u001b[0;32m--> 270\u001b[0;31m             \u001b[0mkwargs\u001b[0m\u001b[0;34m[\u001b[0m\u001b[0;34m'data'\u001b[0m\u001b[0;34m]\u001b[0m\u001b[0;34m[\u001b[0m\u001b[0;34m'signature'\u001b[0m\u001b[0;34m]\u001b[0m \u001b[0;34m=\u001b[0m \u001b[0mself\u001b[0m\u001b[0;34m.\u001b[0m\u001b[0m_generate_signature\u001b[0m\u001b[0;34m(\u001b[0m\u001b[0mkwargs\u001b[0m\u001b[0;34m[\u001b[0m\u001b[0;34m'data'\u001b[0m\u001b[0;34m]\u001b[0m\u001b[0;34m)\u001b[0m\u001b[0;34m\u001b[0m\u001b[0;34m\u001b[0m\u001b[0m\n\u001b[0m\u001b[1;32m    271\u001b[0m \u001b[0;34m\u001b[0m\u001b[0m\n\u001b[1;32m    272\u001b[0m         \u001b[0;31m# sort get and post params to match signature order\u001b[0m\u001b[0;34m\u001b[0m\u001b[0;34m\u001b[0m\u001b[0;34m\u001b[0m\u001b[0m\n",
            "\u001b[0;32m/usr/local/lib/python3.7/dist-packages/binance/client.py\u001b[0m in \u001b[0;36m_generate_signature\u001b[0;34m(self, data)\u001b[0m\n\u001b[1;32m    221\u001b[0m         \u001b[0mordered_data\u001b[0m \u001b[0;34m=\u001b[0m \u001b[0mself\u001b[0m\u001b[0;34m.\u001b[0m\u001b[0m_order_params\u001b[0m\u001b[0;34m(\u001b[0m\u001b[0mdata\u001b[0m\u001b[0;34m)\u001b[0m\u001b[0;34m\u001b[0m\u001b[0;34m\u001b[0m\u001b[0m\n\u001b[1;32m    222\u001b[0m         \u001b[0mquery_string\u001b[0m \u001b[0;34m=\u001b[0m \u001b[0;34m'&'\u001b[0m\u001b[0;34m.\u001b[0m\u001b[0mjoin\u001b[0m\u001b[0;34m(\u001b[0m\u001b[0;34m[\u001b[0m\u001b[0;34mf\"{d[0]}={d[1]}\"\u001b[0m \u001b[0;32mfor\u001b[0m \u001b[0md\u001b[0m \u001b[0;32min\u001b[0m \u001b[0mordered_data\u001b[0m\u001b[0;34m]\u001b[0m\u001b[0;34m)\u001b[0m\u001b[0;34m\u001b[0m\u001b[0;34m\u001b[0m\u001b[0m\n\u001b[0;32m--> 223\u001b[0;31m         \u001b[0mm\u001b[0m \u001b[0;34m=\u001b[0m \u001b[0mhmac\u001b[0m\u001b[0;34m.\u001b[0m\u001b[0mnew\u001b[0m\u001b[0;34m(\u001b[0m\u001b[0mself\u001b[0m\u001b[0;34m.\u001b[0m\u001b[0mAPI_SECRET\u001b[0m\u001b[0;34m.\u001b[0m\u001b[0mencode\u001b[0m\u001b[0;34m(\u001b[0m\u001b[0;34m'utf-8'\u001b[0m\u001b[0;34m)\u001b[0m\u001b[0;34m,\u001b[0m \u001b[0mquery_string\u001b[0m\u001b[0;34m.\u001b[0m\u001b[0mencode\u001b[0m\u001b[0;34m(\u001b[0m\u001b[0;34m'utf-8'\u001b[0m\u001b[0;34m)\u001b[0m\u001b[0;34m,\u001b[0m \u001b[0mhashlib\u001b[0m\u001b[0;34m.\u001b[0m\u001b[0msha256\u001b[0m\u001b[0;34m)\u001b[0m\u001b[0;34m\u001b[0m\u001b[0;34m\u001b[0m\u001b[0m\n\u001b[0m\u001b[1;32m    224\u001b[0m         \u001b[0;32mreturn\u001b[0m \u001b[0mm\u001b[0m\u001b[0;34m.\u001b[0m\u001b[0mhexdigest\u001b[0m\u001b[0;34m(\u001b[0m\u001b[0;34m)\u001b[0m\u001b[0;34m\u001b[0m\u001b[0;34m\u001b[0m\u001b[0m\n\u001b[1;32m    225\u001b[0m \u001b[0;34m\u001b[0m\u001b[0m\n",
            "\u001b[0;31mAttributeError\u001b[0m: 'NoneType' object has no attribute 'encode'"
          ]
        }
      ]
    },
    {
      "cell_type": "markdown",
      "source": [
        "# 新しいセクション"
      ],
      "metadata": {
        "id": "8I7YFhwGx20v"
      }
    },
    {
      "cell_type": "code",
      "source": [
        "# -*- coding: utf-8 -*-\n",
        "from binance.client import Client\n",
        "import datetime\n",
        "\n",
        "# ---------- 設定 ----------\n",
        "\n",
        "# APIキー、シークレットキー設定\n",
        "\n",
        "# 購入通貨\n",
        "PAIR_SYMBOL = 'BATUSDT'\n",
        "\n",
        "# ---------- 処理開始 ----------\n",
        "\n",
        "# 日時取得\n",
        "dt = datetime.datetime.now()\n",
        "\n",
        "# BinanceAPIにアクセス\n",
        "\n",
        "\n",
        "# 資産情報取得\n",
        "basis = client.get_asset_balance(asset='USDT')\n",
        "basis_free = float(basis['free'])\n",
        "\n",
        "# 通貨の最新の価格（lastPrice）を取得\n",
        "ticker = client.get_ticker(symbol=PAIR_SYMBOL)\n",
        "last_price = float(ticker['lastPrice'])\n",
        "\n",
        "# 買い注文（成行注文）\n",
        "buy_quantity = int(basis_free / last_price * 0.99)\n",
        "order = client.create_test_order(\n",
        "    symbol='BNBBTC',\n",
        "    side=SIDE_BUY,\n",
        "    type=ORDER_TYPE_LIMIT,\n",
        "    timeInForce=TIME_IN_FORCE_GTC,\n",
        "    quantity=1,\n",
        "    price='0.036435')\n",
        "#buy_asset = round(float(buy_order['executedQty']) * last_price, 8)\n",
        "\n",
        "# ステータス表示\n",
        "print('----------------------------------------')\n",
        "print(str(dt.strftime('%Y/%m/%d %H:%M')))\n",
        "print('----------------------------------------')\n",
        "print(PAIR_SYMBOL)\n",
        "print('----------------------------------------')\n",
        "print('last_price: ' + str(last_price))\n",
        "#print('buy_asset: ' + str(buy_asset))\n",
        "print('----------------------------------------')"
      ],
      "metadata": {
        "id": "a4ROXAK3ohg0",
        "colab": {
          "base_uri": "https://localhost:8080/"
        },
        "outputId": "23eed1f8-d23e-41b5-ffa4-1677e1b99483"
      },
      "execution_count": 39,
      "outputs": [
        {
          "output_type": "stream",
          "name": "stdout",
          "text": [
            "----------------------------------------\n",
            "2022/04/16 10:12\n",
            "----------------------------------------\n",
            "BATUSDT\n",
            "----------------------------------------\n",
            "last_price: 0.7518\n",
            "----------------------------------------\n"
          ]
        }
      ]
    },
    {
      "cell_type": "code",
      "source": [
        "# -*- coding: utf-8 -*-\n",
        "from binance.client import Client\n",
        "import datetime\n",
        "\n",
        "# ---------- 設定 ----------\n",
        "\n",
        "# APIキー、シークレットキー設定\n",
        "\n",
        "# 購入通貨\n",
        "PAIR_SYMBOL = 'BNBETH'\n",
        "\n",
        "# ---------- 処理開始 ----------\n",
        "\n",
        "# 日時取得\n",
        "dt = datetime.datetime.now()\n",
        "\n",
        "# BinanceAPIにアクセス\n",
        "\n",
        "\n",
        "# 資産情報取得\n",
        "basis = client.get_asset_balance(asset='USDT')\n",
        "basis_free = float(basis['free'])\n",
        "\n",
        "# 通貨の最新の価格（lastPrice）を取得\n",
        "ticker = client.get_ticker(symbol=PAIR_SYMBOL)\n",
        "last_price = float(ticker['lastPrice'])\n",
        "\n",
        "# 買い注文（成行注文）\n",
        "buy_quantity = int(basis_free / last_price * 0.99)\n",
        "order = client.create_test_order(\n",
        "    symbol='BNBBTC',\n",
        "    side=SIDE_BUY,\n",
        "    type=ORDER_TYPE_LIMIT,\n",
        "    timeInForce=TIME_IN_FORCE_GTC,\n",
        "    quantity=1,\n",
        "    price='0.036435')\n",
        "\n",
        "# ステータス表示\n",
        "print('----------------------------------------')\n",
        "print(str(dt.strftime('%Y/%m/%d %H:%M')))\n",
        "print('----------------------------------------')\n",
        "print(PAIR_SYMBOL)\n",
        "print('----------------------------------------')\n",
        "print('last_price: ' + str(last_price))\n",
        "#print('buy_asset: ' + str(buy_asset))\n",
        "print('----------------------------------------')"
      ],
      "metadata": {
        "colab": {
          "base_uri": "https://localhost:8080/"
        },
        "id": "DH-RXG-vx5aF",
        "outputId": "a87dbb3a-d16c-4770-8216-5da9b3ee8514"
      },
      "execution_count": 40,
      "outputs": [
        {
          "output_type": "stream",
          "name": "stdout",
          "text": [
            "----------------------------------------\n",
            "2022/04/16 10:12\n",
            "----------------------------------------\n",
            "BNBETH\n",
            "----------------------------------------\n",
            "last_price: 0.1368\n",
            "----------------------------------------\n"
          ]
        }
      ]
    },
    {
      "cell_type": "code",
      "source": [
        "# -*- coding: utf-8 -*-\n",
        "from binance.client import Client\n",
        "import datetime\n",
        "\n",
        "# ---------- 設定 ----------\n",
        "\n",
        "# APIキー、シークレットキー設定\n",
        "\n",
        "# 購入通貨\n",
        "PAIR_SYMBOL = 'BNBETH'\n",
        "\n",
        "# ---------- 処理開始 ----------\n",
        "\n",
        "# 日時取得\n",
        "dt = datetime.datetime.now()\n",
        "\n",
        "# BinanceAPIにアクセス\n",
        "\n",
        "\n",
        "# 資産情報取得\n",
        "basis = client.get_asset_balance(asset='USDT')\n",
        "basis_free = float(basis['free'])\n",
        "\n",
        "# 通貨の最新の価格（lastPrice）を取得\n",
        "ticker = client.get_ticker(symbol=PAIR_SYMBOL)\n",
        "last_price = float(ticker['lastPrice'])\n",
        "\n",
        "# 買い注文（成行注文）\n",
        "buy_quantity = int(basis_free / last_price * 0.99)\n",
        "order = client.create_test_order(\n",
        "    symbol='BNBBTC',\n",
        "    side=SIDE_BUY,\n",
        "    type=ORDER_TYPE_LIMIT,\n",
        "    timeInForce=TIME_IN_FORCE_GTC,\n",
        "    quantity=1,\n",
        "    price='0.051401')\n",
        "\n",
        "# ステータス表示\n",
        "print('----------------------------------------')\n",
        "print(str(dt.strftime('%Y/%m/%d %H:%M')))\n",
        "print('----------------------------------------')\n",
        "print(PAIR_SYMBOL)\n",
        "print('----------------------------------------')\n",
        "print('last_price: ' + str(last_price))\n",
        "#print('buy_asset: ' + str(buy_asset))\n",
        "print('----------------------------------------')"
      ],
      "metadata": {
        "colab": {
          "base_uri": "https://localhost:8080/",
          "height": 393
        },
        "id": "4MgJQW_K3HGi",
        "outputId": "ca0666de-2572-4637-ba07-cf7096310d17"
      },
      "execution_count": 64,
      "outputs": [
        {
          "output_type": "error",
          "ename": "BinanceAPIException",
          "evalue": "ignored",
          "traceback": [
            "\u001b[0;31m---------------------------------------------------------------------------\u001b[0m",
            "\u001b[0;31mBinanceAPIException\u001b[0m                       Traceback (most recent call last)",
            "\u001b[0;32m<ipython-input-64-eab018142045>\u001b[0m in \u001b[0;36m<module>\u001b[0;34m()\u001b[0m\n\u001b[1;32m     34\u001b[0m     \u001b[0mtimeInForce\u001b[0m\u001b[0;34m=\u001b[0m\u001b[0mTIME_IN_FORCE_GTC\u001b[0m\u001b[0;34m,\u001b[0m\u001b[0;34m\u001b[0m\u001b[0;34m\u001b[0m\u001b[0m\n\u001b[1;32m     35\u001b[0m     \u001b[0mquantity\u001b[0m\u001b[0;34m=\u001b[0m\u001b[0;36m1\u001b[0m\u001b[0;34m,\u001b[0m\u001b[0;34m\u001b[0m\u001b[0;34m\u001b[0m\u001b[0m\n\u001b[0;32m---> 36\u001b[0;31m     price='0.051401001')\n\u001b[0m\u001b[1;32m     37\u001b[0m \u001b[0;34m\u001b[0m\u001b[0m\n\u001b[1;32m     38\u001b[0m \u001b[0;31m# ステータス表示\u001b[0m\u001b[0;34m\u001b[0m\u001b[0;34m\u001b[0m\u001b[0;34m\u001b[0m\u001b[0m\n",
            "\u001b[0;32m/usr/local/lib/python3.7/dist-packages/binance/client.py\u001b[0m in \u001b[0;36mcreate_test_order\u001b[0;34m(self, **params)\u001b[0m\n\u001b[1;32m   1773\u001b[0m \u001b[0;34m\u001b[0m\u001b[0m\n\u001b[1;32m   1774\u001b[0m         \"\"\"\n\u001b[0;32m-> 1775\u001b[0;31m         \u001b[0;32mreturn\u001b[0m \u001b[0mself\u001b[0m\u001b[0;34m.\u001b[0m\u001b[0m_post\u001b[0m\u001b[0;34m(\u001b[0m\u001b[0;34m'order/test'\u001b[0m\u001b[0;34m,\u001b[0m \u001b[0;32mTrue\u001b[0m\u001b[0;34m,\u001b[0m \u001b[0mdata\u001b[0m\u001b[0;34m=\u001b[0m\u001b[0mparams\u001b[0m\u001b[0;34m)\u001b[0m\u001b[0;34m\u001b[0m\u001b[0;34m\u001b[0m\u001b[0m\n\u001b[0m\u001b[1;32m   1776\u001b[0m \u001b[0;34m\u001b[0m\u001b[0m\n\u001b[1;32m   1777\u001b[0m     \u001b[0;32mdef\u001b[0m \u001b[0mget_order\u001b[0m\u001b[0;34m(\u001b[0m\u001b[0mself\u001b[0m\u001b[0;34m,\u001b[0m \u001b[0;34m**\u001b[0m\u001b[0mparams\u001b[0m\u001b[0;34m)\u001b[0m\u001b[0;34m:\u001b[0m\u001b[0;34m\u001b[0m\u001b[0;34m\u001b[0m\u001b[0m\n",
            "\u001b[0;32m/usr/local/lib/python3.7/dist-packages/binance/client.py\u001b[0m in \u001b[0;36m_post\u001b[0;34m(self, path, signed, version, **kwargs)\u001b[0m\n\u001b[1;32m    372\u001b[0m \u001b[0;34m\u001b[0m\u001b[0m\n\u001b[1;32m    373\u001b[0m     \u001b[0;32mdef\u001b[0m \u001b[0m_post\u001b[0m\u001b[0;34m(\u001b[0m\u001b[0mself\u001b[0m\u001b[0;34m,\u001b[0m \u001b[0mpath\u001b[0m\u001b[0;34m,\u001b[0m \u001b[0msigned\u001b[0m\u001b[0;34m=\u001b[0m\u001b[0;32mFalse\u001b[0m\u001b[0;34m,\u001b[0m \u001b[0mversion\u001b[0m\u001b[0;34m=\u001b[0m\u001b[0mBaseClient\u001b[0m\u001b[0;34m.\u001b[0m\u001b[0mPUBLIC_API_VERSION\u001b[0m\u001b[0;34m,\u001b[0m \u001b[0;34m**\u001b[0m\u001b[0mkwargs\u001b[0m\u001b[0;34m)\u001b[0m \u001b[0;34m->\u001b[0m \u001b[0mDict\u001b[0m\u001b[0;34m:\u001b[0m\u001b[0;34m\u001b[0m\u001b[0;34m\u001b[0m\u001b[0m\n\u001b[0;32m--> 374\u001b[0;31m         \u001b[0;32mreturn\u001b[0m \u001b[0mself\u001b[0m\u001b[0;34m.\u001b[0m\u001b[0m_request_api\u001b[0m\u001b[0;34m(\u001b[0m\u001b[0;34m'post'\u001b[0m\u001b[0;34m,\u001b[0m \u001b[0mpath\u001b[0m\u001b[0;34m,\u001b[0m \u001b[0msigned\u001b[0m\u001b[0;34m,\u001b[0m \u001b[0mversion\u001b[0m\u001b[0;34m,\u001b[0m \u001b[0;34m**\u001b[0m\u001b[0mkwargs\u001b[0m\u001b[0;34m)\u001b[0m\u001b[0;34m\u001b[0m\u001b[0;34m\u001b[0m\u001b[0m\n\u001b[0m\u001b[1;32m    375\u001b[0m \u001b[0;34m\u001b[0m\u001b[0m\n\u001b[1;32m    376\u001b[0m     \u001b[0;32mdef\u001b[0m \u001b[0m_put\u001b[0m\u001b[0;34m(\u001b[0m\u001b[0mself\u001b[0m\u001b[0;34m,\u001b[0m \u001b[0mpath\u001b[0m\u001b[0;34m,\u001b[0m \u001b[0msigned\u001b[0m\u001b[0;34m=\u001b[0m\u001b[0;32mFalse\u001b[0m\u001b[0;34m,\u001b[0m \u001b[0mversion\u001b[0m\u001b[0;34m=\u001b[0m\u001b[0mBaseClient\u001b[0m\u001b[0;34m.\u001b[0m\u001b[0mPUBLIC_API_VERSION\u001b[0m\u001b[0;34m,\u001b[0m \u001b[0;34m**\u001b[0m\u001b[0mkwargs\u001b[0m\u001b[0;34m)\u001b[0m \u001b[0;34m->\u001b[0m \u001b[0mDict\u001b[0m\u001b[0;34m:\u001b[0m\u001b[0;34m\u001b[0m\u001b[0;34m\u001b[0m\u001b[0m\n",
            "\u001b[0;32m/usr/local/lib/python3.7/dist-packages/binance/client.py\u001b[0m in \u001b[0;36m_request_api\u001b[0;34m(self, method, path, signed, version, **kwargs)\u001b[0m\n\u001b[1;32m    332\u001b[0m     ):\n\u001b[1;32m    333\u001b[0m         \u001b[0muri\u001b[0m \u001b[0;34m=\u001b[0m \u001b[0mself\u001b[0m\u001b[0;34m.\u001b[0m\u001b[0m_create_api_uri\u001b[0m\u001b[0;34m(\u001b[0m\u001b[0mpath\u001b[0m\u001b[0;34m,\u001b[0m \u001b[0msigned\u001b[0m\u001b[0;34m,\u001b[0m \u001b[0mversion\u001b[0m\u001b[0;34m)\u001b[0m\u001b[0;34m\u001b[0m\u001b[0;34m\u001b[0m\u001b[0m\n\u001b[0;32m--> 334\u001b[0;31m         \u001b[0;32mreturn\u001b[0m \u001b[0mself\u001b[0m\u001b[0;34m.\u001b[0m\u001b[0m_request\u001b[0m\u001b[0;34m(\u001b[0m\u001b[0mmethod\u001b[0m\u001b[0;34m,\u001b[0m \u001b[0muri\u001b[0m\u001b[0;34m,\u001b[0m \u001b[0msigned\u001b[0m\u001b[0;34m,\u001b[0m \u001b[0;34m**\u001b[0m\u001b[0mkwargs\u001b[0m\u001b[0;34m)\u001b[0m\u001b[0;34m\u001b[0m\u001b[0;34m\u001b[0m\u001b[0m\n\u001b[0m\u001b[1;32m    335\u001b[0m \u001b[0;34m\u001b[0m\u001b[0m\n\u001b[1;32m    336\u001b[0m     \u001b[0;32mdef\u001b[0m \u001b[0m_request_futures_api\u001b[0m\u001b[0;34m(\u001b[0m\u001b[0mself\u001b[0m\u001b[0;34m,\u001b[0m \u001b[0mmethod\u001b[0m\u001b[0;34m,\u001b[0m \u001b[0mpath\u001b[0m\u001b[0;34m,\u001b[0m \u001b[0msigned\u001b[0m\u001b[0;34m=\u001b[0m\u001b[0;32mFalse\u001b[0m\u001b[0;34m,\u001b[0m \u001b[0;34m**\u001b[0m\u001b[0mkwargs\u001b[0m\u001b[0;34m)\u001b[0m \u001b[0;34m->\u001b[0m \u001b[0mDict\u001b[0m\u001b[0;34m:\u001b[0m\u001b[0;34m\u001b[0m\u001b[0;34m\u001b[0m\u001b[0m\n",
            "\u001b[0;32m/usr/local/lib/python3.7/dist-packages/binance/client.py\u001b[0m in \u001b[0;36m_request\u001b[0;34m(self, method, uri, signed, force_params, **kwargs)\u001b[0m\n\u001b[1;32m    313\u001b[0m \u001b[0;34m\u001b[0m\u001b[0m\n\u001b[1;32m    314\u001b[0m         \u001b[0mself\u001b[0m\u001b[0;34m.\u001b[0m\u001b[0mresponse\u001b[0m \u001b[0;34m=\u001b[0m \u001b[0mgetattr\u001b[0m\u001b[0;34m(\u001b[0m\u001b[0mself\u001b[0m\u001b[0;34m.\u001b[0m\u001b[0msession\u001b[0m\u001b[0;34m,\u001b[0m \u001b[0mmethod\u001b[0m\u001b[0;34m)\u001b[0m\u001b[0;34m(\u001b[0m\u001b[0muri\u001b[0m\u001b[0;34m,\u001b[0m \u001b[0;34m**\u001b[0m\u001b[0mkwargs\u001b[0m\u001b[0;34m)\u001b[0m\u001b[0;34m\u001b[0m\u001b[0;34m\u001b[0m\u001b[0m\n\u001b[0;32m--> 315\u001b[0;31m         \u001b[0;32mreturn\u001b[0m \u001b[0mself\u001b[0m\u001b[0;34m.\u001b[0m\u001b[0m_handle_response\u001b[0m\u001b[0;34m(\u001b[0m\u001b[0mself\u001b[0m\u001b[0;34m.\u001b[0m\u001b[0mresponse\u001b[0m\u001b[0;34m)\u001b[0m\u001b[0;34m\u001b[0m\u001b[0;34m\u001b[0m\u001b[0m\n\u001b[0m\u001b[1;32m    316\u001b[0m \u001b[0;34m\u001b[0m\u001b[0m\n\u001b[1;32m    317\u001b[0m     \u001b[0;34m@\u001b[0m\u001b[0mstaticmethod\u001b[0m\u001b[0;34m\u001b[0m\u001b[0;34m\u001b[0m\u001b[0m\n",
            "\u001b[0;32m/usr/local/lib/python3.7/dist-packages/binance/client.py\u001b[0m in \u001b[0;36m_handle_response\u001b[0;34m(response)\u001b[0m\n\u001b[1;32m    322\u001b[0m         \"\"\"\n\u001b[1;32m    323\u001b[0m         \u001b[0;32mif\u001b[0m \u001b[0;32mnot\u001b[0m \u001b[0;34m(\u001b[0m\u001b[0;36m200\u001b[0m \u001b[0;34m<=\u001b[0m \u001b[0mresponse\u001b[0m\u001b[0;34m.\u001b[0m\u001b[0mstatus_code\u001b[0m \u001b[0;34m<\u001b[0m \u001b[0;36m300\u001b[0m\u001b[0;34m)\u001b[0m\u001b[0;34m:\u001b[0m\u001b[0;34m\u001b[0m\u001b[0;34m\u001b[0m\u001b[0m\n\u001b[0;32m--> 324\u001b[0;31m             \u001b[0;32mraise\u001b[0m \u001b[0mBinanceAPIException\u001b[0m\u001b[0;34m(\u001b[0m\u001b[0mresponse\u001b[0m\u001b[0;34m,\u001b[0m \u001b[0mresponse\u001b[0m\u001b[0;34m.\u001b[0m\u001b[0mstatus_code\u001b[0m\u001b[0;34m,\u001b[0m \u001b[0mresponse\u001b[0m\u001b[0;34m.\u001b[0m\u001b[0mtext\u001b[0m\u001b[0;34m)\u001b[0m\u001b[0;34m\u001b[0m\u001b[0;34m\u001b[0m\u001b[0m\n\u001b[0m\u001b[1;32m    325\u001b[0m         \u001b[0;32mtry\u001b[0m\u001b[0;34m:\u001b[0m\u001b[0;34m\u001b[0m\u001b[0;34m\u001b[0m\u001b[0m\n\u001b[1;32m    326\u001b[0m             \u001b[0;32mreturn\u001b[0m \u001b[0mresponse\u001b[0m\u001b[0;34m.\u001b[0m\u001b[0mjson\u001b[0m\u001b[0;34m(\u001b[0m\u001b[0;34m)\u001b[0m\u001b[0;34m\u001b[0m\u001b[0;34m\u001b[0m\u001b[0m\n",
            "\u001b[0;31mBinanceAPIException\u001b[0m: APIError(code=-1111): Precision is over the maximum defined for this asset."
          ]
        }
      ]
    },
    {
      "cell_type": "code",
      "source": [
        "\n",
        "\n",
        "# 購入通貨\n",
        "PAIR_SYMBOL = 'ETHBTC'\n",
        "\n",
        "\n",
        "\n",
        "# 日時取得\n",
        "dt = datetime.datetime.now()\n",
        "\n",
        "# 資産情報取得\n",
        "basis = client.get_asset_balance(asset='USDT')\n",
        "basis_free = float(basis['free'])\n",
        "\n",
        "# 通貨の最新の価格（lastPrice）を取得\n",
        "ticker = client.get_ticker(symbol=PAIR_SYMBOL)\n",
        "last_price = float(ticker['lastPrice'])\n",
        "\n",
        "# 買い注文（成行注文）\n",
        "buy_quantity = int(basis_free / last_price * 0.99)\n",
        "order = client.create_test_order(\n",
        "    symbol='BNBBTC',\n",
        "    side=SIDE_BUY,\n",
        "    type=ORDER_TYPE_LIMIT,\n",
        "    timeInForce=TIME_IN_FORCE_GTC,\n",
        "    quantity=1,\n",
        "    price='0.002057')\n",
        "\n",
        "# ステータス表示\n",
        "print('----------------------------------------')\n",
        "print(str(dt.strftime('%Y/%m/%d %H:%M')))\n",
        "print('----------------------------------------')\n",
        "print(PAIR_SYMBOL)\n",
        "print('----------------------------------------')\n",
        "print('last_price: ' + str(last_price))\n",
        "#print('buy_asset: ' + str(buy_asset))\n",
        "print('----------------------------------------')"
      ],
      "metadata": {
        "id": "N8nACLMi5XCw",
        "outputId": "cb69fbf4-dbcb-4024-ed8c-e01c9aa7c34f",
        "colab": {
          "base_uri": "https://localhost:8080/"
        }
      },
      "execution_count": 101,
      "outputs": [
        {
          "output_type": "stream",
          "name": "stdout",
          "text": [
            "----------------------------------------\n",
            "2022/04/16 10:29\n",
            "----------------------------------------\n",
            "ETHBTC\n",
            "----------------------------------------\n",
            "last_price: 0.075213\n",
            "----------------------------------------\n"
          ]
        }
      ]
    },
    {
      "cell_type": "code",
      "source": [
        ""
      ],
      "metadata": {
        "id": "wAkNn-JT6CVS"
      },
      "execution_count": null,
      "outputs": []
    }
  ]
}