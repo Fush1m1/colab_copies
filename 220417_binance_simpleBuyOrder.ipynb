{
  "nbformat": 4,
  "nbformat_minor": 0,
  "metadata": {
    "colab": {
      "name": "220324.ipynb",
      "provenance": [],
      "collapsed_sections": [],
      "include_colab_link": true
    },
    "kernelspec": {
      "display_name": "Python 3",
      "name": "python3"
    }
  },
  "cells": [
    {
      "cell_type": "markdown",
      "metadata": {
        "id": "view-in-github",
        "colab_type": "text"
      },
      "source": [
        "<a href=\"https://colab.research.google.com/github/Fush1m1/colab_copies/blob/main/220417_binance_simpleBuyOrder_.ipynb\" target=\"_parent\"><img src=\"https://colab.research.google.com/assets/colab-badge.svg\" alt=\"Open In Colab\"/></a>"
      ]
    },
    {
      "cell_type": "code",
      "metadata": {
        "id": "5VeEFwlr6YS4"
      },
      "source": [
        "!sudo pip3 install python-binance"
      ],
      "execution_count": null,
      "outputs": []
    },
    {
      "cell_type": "code",
      "metadata": {
        "id": "Wd4GzHWk6zim"
      },
      "source": [
        "#help(binance.client)"
      ],
      "execution_count": 3,
      "outputs": []
    },
    {
      "cell_type": "code",
      "source": [
        "api_key = \"2lM7uXFEARCctD910fTwLRzMSzKGTL0hAlKffroIsmCSMfxSz0VxxbYEwd7fdX9V\"\n",
        "api_secret = \"mJ3SHKEGYMMiMwOerhw4QT2G9wkfNJdJZvrI55lP1Jz84l4KLUGu0iCCBGMWGaH7\""
      ],
      "metadata": {
        "id": "wyI8GgjsdXUx"
      },
      "execution_count": 4,
      "outputs": []
    },
    {
      "cell_type": "code",
      "source": [
        "import csv\n",
        "import binance.client\n",
        "import logging\n",
        "from binance.client import Client\n",
        "from binance.enums import *\n",
        "import time\n",
        "import re\n",
        "import os\n",
        "from datetime import datetime\n",
        "from datetime import timedelta\n",
        "import pandas as pd\n",
        "#import bt\n",
        "import json\n",
        "import requests\n",
        "\n",
        "\n",
        "import matplotlib.pyplot as plt\n",
        "%matplotlib inline\n",
        "\n",
        "#import mpl_finance\n",
        "#from mpl_finance import candlestick2_ohlc"
      ],
      "metadata": {
        "id": "XbVWNmvfdcun"
      },
      "execution_count": 8,
      "outputs": []
    },
    {
      "cell_type": "code",
      "source": [
        "client = binance.client.Client(api_key, api_secret)"
      ],
      "metadata": {
        "id": "ARzRhA-veZC0"
      },
      "execution_count": 9,
      "outputs": []
    },
    {
      "cell_type": "code",
      "source": [
        "# 購入通貨\n",
        "PAIR_SYMBOL = 'ETHBTC'\n",
        "\n",
        "# 日時取得\n",
        "dt = datetime.now()\n",
        "\n",
        "# BinanceAPIにアクセス\n",
        "prices = client.get_all_tickers()\n",
        "Price = prices[0]['price']\n",
        "\n",
        "# 買い注文（成行注文）\n",
        "order = client.create_test_order(\n",
        "    symbol='ETHBTC',\n",
        "    side=SIDE_BUY,\n",
        "    type=ORDER_TYPE_LIMIT,\n",
        "    timeInForce=TIME_IN_FORCE_GTC,\n",
        "    quantity=1,\n",
        "    price=Price)\n",
        "\n",
        "# ステータス表示\n",
        "print('----------------------------------------')\n",
        "print(str(dt.strftime('%Y/%m/%d %H:%M')))\n",
        "print('----------------------------------------')\n",
        "print(PAIR_SYMBOL)\n",
        "print('----------------------------------------')\n",
        "print('price: ' + str(Price))\n",
        "print('----------------------------------------')"
      ],
      "metadata": {
        "id": "a4ROXAK3ohg0",
        "colab": {
          "base_uri": "https://localhost:8080/"
        },
        "outputId": "d3bef3eb-a517-4f3a-80a8-1c7a1694f9e7"
      },
      "execution_count": 11,
      "outputs": [
        {
          "output_type": "stream",
          "name": "stdout",
          "text": [
            "----------------------------------------\n",
            "2022/04/16 19:27\n",
            "----------------------------------------\n",
            "ETHBTC\n",
            "----------------------------------------\n",
            "price: 0.07528100\n",
            "----------------------------------------\n"
          ]
        }
      ]
    },
    {
      "cell_type": "code",
      "source": [
        ""
      ],
      "metadata": {
        "id": "wAkNn-JT6CVS"
      },
      "execution_count": null,
      "outputs": []
    }
  ]
}
