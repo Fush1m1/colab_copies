{
  "nbformat": 4,
  "nbformat_minor": 0,
  "metadata": {
    "colab": {
      "name": "signate220319beginer限定コンペ（糖尿病）.ipynb",
      "provenance": [],
      "collapsed_sections": [],
      "include_colab_link": true
    },
    "kernelspec": {
      "display_name": "Python 3",
      "name": "python3"
    }
  },
  "cells": [
    {
      "cell_type": "markdown",
      "metadata": {
        "id": "view-in-github",
        "colab_type": "text"
      },
      "source": [
        "<a href=\"https://colab.research.google.com/github/Fush1m1/colab_copies/blob/main/signate220319beginer%E9%99%90%E5%AE%9A%E3%82%B3%E3%83%B3%E3%83%9A%EF%BC%88%E7%B3%96%E5%B0%BF%E7%97%85%EF%BC%89220326_2.ipynb\" target=\"_parent\"><img src=\"https://colab.research.google.com/assets/colab-badge.svg\" alt=\"Open In Colab\"/></a>"
      ]
    },
    {
      "cell_type": "markdown",
      "metadata": {
        "id": "NE7wLFzOqyl2"
      },
      "source": [
        "# データとライブラリの読み込み"
      ]
    },
    {
      "cell_type": "code",
      "source": [
        "from datetime import datetime\n",
        "import numpy as np\n",
        "import pandas as pd\n",
        "import matplotlib.pyplot as plt\n",
        "from sklearn.model_selection import train_test_split\n",
        "from sklearn.preprocessing import LabelEncoder"
      ],
      "metadata": {
        "id": "pRlb78uUQ5hA"
      },
      "execution_count": 1,
      "outputs": []
    },
    {
      "cell_type": "code",
      "metadata": {
        "id": "J3Cwk-6YT6R4"
      },
      "source": [
        "train = pd.read_csv('train.csv')\n",
        "test = pd.read_csv('test.csv')\n",
        "sub = pd.read_csv('sample_submit.csv',header=None)"
      ],
      "execution_count": 17,
      "outputs": []
    },
    {
      "cell_type": "code",
      "source": [
        "train"
      ],
      "metadata": {
        "id": "6A5i75FH7QFt"
      },
      "execution_count": null,
      "outputs": []
    },
    {
      "cell_type": "code",
      "source": [
        "test"
      ],
      "metadata": {
        "id": "5I98j9Wi7fD7"
      },
      "execution_count": null,
      "outputs": []
    },
    {
      "cell_type": "code",
      "source": [
        "sub"
      ],
      "metadata": {
        "id": "BFJePqjrFp5H",
        "outputId": "874d38f4-c8ff-491b-eaab-322842f37585",
        "colab": {
          "base_uri": "https://localhost:8080/",
          "height": 423
        }
      },
      "execution_count": 18,
      "outputs": [
        {
          "output_type": "execute_result",
          "data": {
            "text/plain": [
              "         0  1\n",
              "0      398  0\n",
              "1     3833  0\n",
              "2     4836  0\n",
              "3     4572  0\n",
              "4      636  0\n",
              "...    ... ..\n",
              "1995  3138  0\n",
              "1996   191  0\n",
              "1997  3294  0\n",
              "1998  3073  0\n",
              "1999   361  0\n",
              "\n",
              "[2000 rows x 2 columns]"
            ],
            "text/html": [
              "\n",
              "  <div id=\"df-399c076c-3792-48ee-a2c0-49d6838ef882\">\n",
              "    <div class=\"colab-df-container\">\n",
              "      <div>\n",
              "<style scoped>\n",
              "    .dataframe tbody tr th:only-of-type {\n",
              "        vertical-align: middle;\n",
              "    }\n",
              "\n",
              "    .dataframe tbody tr th {\n",
              "        vertical-align: top;\n",
              "    }\n",
              "\n",
              "    .dataframe thead th {\n",
              "        text-align: right;\n",
              "    }\n",
              "</style>\n",
              "<table border=\"1\" class=\"dataframe\">\n",
              "  <thead>\n",
              "    <tr style=\"text-align: right;\">\n",
              "      <th></th>\n",
              "      <th>0</th>\n",
              "      <th>1</th>\n",
              "    </tr>\n",
              "  </thead>\n",
              "  <tbody>\n",
              "    <tr>\n",
              "      <th>0</th>\n",
              "      <td>398</td>\n",
              "      <td>0</td>\n",
              "    </tr>\n",
              "    <tr>\n",
              "      <th>1</th>\n",
              "      <td>3833</td>\n",
              "      <td>0</td>\n",
              "    </tr>\n",
              "    <tr>\n",
              "      <th>2</th>\n",
              "      <td>4836</td>\n",
              "      <td>0</td>\n",
              "    </tr>\n",
              "    <tr>\n",
              "      <th>3</th>\n",
              "      <td>4572</td>\n",
              "      <td>0</td>\n",
              "    </tr>\n",
              "    <tr>\n",
              "      <th>4</th>\n",
              "      <td>636</td>\n",
              "      <td>0</td>\n",
              "    </tr>\n",
              "    <tr>\n",
              "      <th>...</th>\n",
              "      <td>...</td>\n",
              "      <td>...</td>\n",
              "    </tr>\n",
              "    <tr>\n",
              "      <th>1995</th>\n",
              "      <td>3138</td>\n",
              "      <td>0</td>\n",
              "    </tr>\n",
              "    <tr>\n",
              "      <th>1996</th>\n",
              "      <td>191</td>\n",
              "      <td>0</td>\n",
              "    </tr>\n",
              "    <tr>\n",
              "      <th>1997</th>\n",
              "      <td>3294</td>\n",
              "      <td>0</td>\n",
              "    </tr>\n",
              "    <tr>\n",
              "      <th>1998</th>\n",
              "      <td>3073</td>\n",
              "      <td>0</td>\n",
              "    </tr>\n",
              "    <tr>\n",
              "      <th>1999</th>\n",
              "      <td>361</td>\n",
              "      <td>0</td>\n",
              "    </tr>\n",
              "  </tbody>\n",
              "</table>\n",
              "<p>2000 rows × 2 columns</p>\n",
              "</div>\n",
              "      <button class=\"colab-df-convert\" onclick=\"convertToInteractive('df-399c076c-3792-48ee-a2c0-49d6838ef882')\"\n",
              "              title=\"Convert this dataframe to an interactive table.\"\n",
              "              style=\"display:none;\">\n",
              "        \n",
              "  <svg xmlns=\"http://www.w3.org/2000/svg\" height=\"24px\"viewBox=\"0 0 24 24\"\n",
              "       width=\"24px\">\n",
              "    <path d=\"M0 0h24v24H0V0z\" fill=\"none\"/>\n",
              "    <path d=\"M18.56 5.44l.94 2.06.94-2.06 2.06-.94-2.06-.94-.94-2.06-.94 2.06-2.06.94zm-11 1L8.5 8.5l.94-2.06 2.06-.94-2.06-.94L8.5 2.5l-.94 2.06-2.06.94zm10 10l.94 2.06.94-2.06 2.06-.94-2.06-.94-.94-2.06-.94 2.06-2.06.94z\"/><path d=\"M17.41 7.96l-1.37-1.37c-.4-.4-.92-.59-1.43-.59-.52 0-1.04.2-1.43.59L10.3 9.45l-7.72 7.72c-.78.78-.78 2.05 0 2.83L4 21.41c.39.39.9.59 1.41.59.51 0 1.02-.2 1.41-.59l7.78-7.78 2.81-2.81c.8-.78.8-2.07 0-2.86zM5.41 20L4 18.59l7.72-7.72 1.47 1.35L5.41 20z\"/>\n",
              "  </svg>\n",
              "      </button>\n",
              "      \n",
              "  <style>\n",
              "    .colab-df-container {\n",
              "      display:flex;\n",
              "      flex-wrap:wrap;\n",
              "      gap: 12px;\n",
              "    }\n",
              "\n",
              "    .colab-df-convert {\n",
              "      background-color: #E8F0FE;\n",
              "      border: none;\n",
              "      border-radius: 50%;\n",
              "      cursor: pointer;\n",
              "      display: none;\n",
              "      fill: #1967D2;\n",
              "      height: 32px;\n",
              "      padding: 0 0 0 0;\n",
              "      width: 32px;\n",
              "    }\n",
              "\n",
              "    .colab-df-convert:hover {\n",
              "      background-color: #E2EBFA;\n",
              "      box-shadow: 0px 1px 2px rgba(60, 64, 67, 0.3), 0px 1px 3px 1px rgba(60, 64, 67, 0.15);\n",
              "      fill: #174EA6;\n",
              "    }\n",
              "\n",
              "    [theme=dark] .colab-df-convert {\n",
              "      background-color: #3B4455;\n",
              "      fill: #D2E3FC;\n",
              "    }\n",
              "\n",
              "    [theme=dark] .colab-df-convert:hover {\n",
              "      background-color: #434B5C;\n",
              "      box-shadow: 0px 1px 3px 1px rgba(0, 0, 0, 0.15);\n",
              "      filter: drop-shadow(0px 1px 2px rgba(0, 0, 0, 0.3));\n",
              "      fill: #FFFFFF;\n",
              "    }\n",
              "  </style>\n",
              "\n",
              "      <script>\n",
              "        const buttonEl =\n",
              "          document.querySelector('#df-399c076c-3792-48ee-a2c0-49d6838ef882 button.colab-df-convert');\n",
              "        buttonEl.style.display =\n",
              "          google.colab.kernel.accessAllowed ? 'block' : 'none';\n",
              "\n",
              "        async function convertToInteractive(key) {\n",
              "          const element = document.querySelector('#df-399c076c-3792-48ee-a2c0-49d6838ef882');\n",
              "          const dataTable =\n",
              "            await google.colab.kernel.invokeFunction('convertToInteractive',\n",
              "                                                     [key], {});\n",
              "          if (!dataTable) return;\n",
              "\n",
              "          const docLinkHtml = 'Like what you see? Visit the ' +\n",
              "            '<a target=\"_blank\" href=https://colab.research.google.com/notebooks/data_table.ipynb>data table notebook</a>'\n",
              "            + ' to learn more about interactive tables.';\n",
              "          element.innerHTML = '';\n",
              "          dataTable['output_type'] = 'display_data';\n",
              "          await google.colab.output.renderOutput(dataTable, element);\n",
              "          const docLink = document.createElement('div');\n",
              "          docLink.innerHTML = docLinkHtml;\n",
              "          element.appendChild(docLink);\n",
              "        }\n",
              "      </script>\n",
              "    </div>\n",
              "  </div>\n",
              "  "
            ]
          },
          "metadata": {},
          "execution_count": 18
        }
      ]
    },
    {
      "cell_type": "markdown",
      "source": [
        "# クレンジングと特徴量の作成"
      ],
      "metadata": {
        "id": "-_MVPmHqWfDn"
      }
    },
    {
      "cell_type": "code",
      "source": [
        "train = train.drop(\"index\", axis=1)\n",
        "test = test.drop(\"index\", axis=1)"
      ],
      "metadata": {
        "id": "SI4LY6r1OvWF"
      },
      "execution_count": 19,
      "outputs": []
    },
    {
      "cell_type": "code",
      "source": [
        "train.isnull()"
      ],
      "metadata": {
        "id": "rSUdrmpT7Pqp"
      },
      "execution_count": null,
      "outputs": []
    },
    {
      "cell_type": "markdown",
      "source": [
        "# モデル構築"
      ],
      "metadata": {
        "id": "4dFpqPxAWl7A"
      }
    },
    {
      "cell_type": "code",
      "source": [
        "X_train = train.drop(['Outcome'], axis=1)\n",
        "y_train = train['Outcome']"
      ],
      "metadata": {
        "id": "D5h4xMXdTblO"
      },
      "execution_count": 4,
      "outputs": []
    },
    {
      "cell_type": "markdown",
      "source": [
        "## LightGBM"
      ],
      "metadata": {
        "id": "BE97TS2_EYrH"
      }
    },
    {
      "cell_type": "code",
      "source": [
        "import lightgbm as lgb\n",
        "from sklearn.metrics import accuracy_score"
      ],
      "metadata": {
        "id": "5vNr6fGlEs8w"
      },
      "execution_count": 8,
      "outputs": []
    },
    {
      "cell_type": "markdown",
      "source": [
        "### ホールドアウト法"
      ],
      "metadata": {
        "id": "DZJymZeKEv6T"
      }
    },
    {
      "cell_type": "code",
      "source": [
        "from sklearn.model_selection import train_test_split\n",
        "\n",
        "#X_trainとy_trainをtrainとvalidに分割\n",
        "train_x, valid_x, train_y, valid_y = train_test_split(X_train, y_train, test_size=0.33, random_state=0)\n",
        "\n",
        "#LightGBMの分類器をインスタンス化\n",
        "gbm = lgb.LGBMClassifier(objective='binary')\n",
        "\n",
        "#trainとvalidを指定し学習\n",
        "gbm.fit(train_x, train_y, eval_set = [(valid_x, valid_y)],\n",
        "        early_stopping_rounds=20, #20回連続でlossが下がらなかったら終了\n",
        "        verbose=10  #10round毎に、lossを表示\n",
        ")\n"
      ],
      "metadata": {
        "id": "2y1B5plKM7Uc"
      },
      "execution_count": null,
      "outputs": []
    },
    {
      "cell_type": "code",
      "source": [
        ""
      ],
      "metadata": {
        "id": "ZviPk41Z7RSo"
      },
      "execution_count": null,
      "outputs": []
    },
    {
      "cell_type": "code",
      "source": [
        "#valid_xについて推論\n",
        "#out of fold　=　学習に使っているデータ以外の予測\n",
        "oof = gbm.predict(valid_x, num_iteration=gbm.best_iteration_)\n",
        "#正解率\n",
        "print('score', round(accuracy_score(valid_y, oof)*100,2), '%')"
      ],
      "metadata": {
        "colab": {
          "base_uri": "https://localhost:8080/"
        },
        "id": "Mz8A5y5DPt-U",
        "outputId": "765b16f1-973d-46ee-b8ff-17364d49ac33"
      },
      "execution_count": null,
      "outputs": [
        {
          "output_type": "stream",
          "name": "stdout",
          "text": [
            "score 78.79 %\n"
          ]
        }
      ]
    },
    {
      "cell_type": "markdown",
      "source": [
        "### optuna"
      ],
      "metadata": {
        "id": "PEA8-Gmk8vmW"
      }
    },
    {
      "cell_type": "code",
      "source": [
        "!pip3 install optuna"
      ],
      "metadata": {
        "id": "VBlJ4J8U8pPK"
      },
      "execution_count": null,
      "outputs": []
    },
    {
      "cell_type": "code",
      "source": [
        "import optuna\n",
        "import optuna.integration.lightgbm as lgb"
      ],
      "metadata": {
        "id": "6T8NaL6r7Q-S"
      },
      "execution_count": 8,
      "outputs": []
    },
    {
      "cell_type": "code",
      "source": [
        "from sklearn.model_selection import train_test_split\n",
        "from sklearn.metrics import accuracy_score\n",
        "\n",
        "#X_trainとy_trainをtrainとvalidに分割\n",
        "train_x, valid_x, train_y, valid_y = train_test_split(X_train, y_train, test_size=0.33, random_state=0)\n",
        "\n",
        "#LightGBMの分類器をインスタンス化\n",
        "gbm = lgb.LGBMClassifier(objective='binary')\n",
        "\n",
        "#trainとvalidを指定し学習\n",
        "gbm.fit(train_x, train_y, eval_set = [(valid_x, valid_y)],\n",
        "        early_stopping_rounds=20, #20回連続でlossが下がらなかったら終了\n",
        "        verbose=10  #10round毎に、lossを表示\n",
        ")"
      ],
      "metadata": {
        "colab": {
          "base_uri": "https://localhost:8080/"
        },
        "id": "c_CvsM-k8zD5",
        "outputId": "9e730a2b-8f71-4d79-fd62-81586fd078ff"
      },
      "execution_count": 18,
      "outputs": [
        {
          "output_type": "stream",
          "name": "stdout",
          "text": [
            "Training until validation scores don't improve for 20 rounds.\n",
            "[10]\tvalid_0's binary_logloss: 0.490868\n",
            "[20]\tvalid_0's binary_logloss: 0.473108\n",
            "[30]\tvalid_0's binary_logloss: 0.46972\n",
            "[40]\tvalid_0's binary_logloss: 0.468288\n",
            "[50]\tvalid_0's binary_logloss: 0.467052\n",
            "Early stopping, best iteration is:\n",
            "[37]\tvalid_0's binary_logloss: 0.466403\n"
          ]
        },
        {
          "output_type": "execute_result",
          "data": {
            "text/plain": [
              "LGBMClassifier(objective='binary')"
            ]
          },
          "metadata": {},
          "execution_count": 18
        }
      ]
    },
    {
      "cell_type": "code",
      "source": [
        "#valid_xについて推論\n",
        "#out of fold　=　学習に使っているデータ以外の予測\n",
        "oof = gbm.predict(valid_x, num_iteration=gbm.best_iteration_)\n",
        "#正解率\n",
        "print('score', round(accuracy_score(valid_y, oof)*100,2), '%')"
      ],
      "metadata": {
        "colab": {
          "base_uri": "https://localhost:8080/"
        },
        "id": "0YE8KnOU9n6U",
        "outputId": "cc98423e-2471-426b-b4c4-6f30b94f213c"
      },
      "execution_count": 19,
      "outputs": [
        {
          "output_type": "stream",
          "name": "stdout",
          "text": [
            "score 78.79 %\n"
          ]
        }
      ]
    },
    {
      "cell_type": "markdown",
      "source": [
        "### 分割交差検証での学習"
      ],
      "metadata": {
        "id": "RU03vMZDChEq"
      }
    },
    {
      "cell_type": "code",
      "source": [
        "# 3分割交差検証を指定し、インスタンス化\n",
        "from sklearn.model_selection import KFold\n",
        "kf = KFold(n_splits=3)  # 3分割交差検証のためにインスタンス化\n",
        "\n",
        "# スコアとモデルを格納するリスト\n",
        "score_list = []\n",
        "models = []\n",
        "\n",
        "for fold_, (train_index, valid_index) in enumerate(kf.split(X_train, y_train)):\n",
        "    train_x = X_train.iloc[train_index]\n",
        "    valid_x = X_train.iloc[valid_index]\n",
        "    train_y = y_train[train_index]\n",
        "    valid_y = y_train[valid_index]\n",
        "    \n",
        "    print(f'fold{fold_ + 1} start')\n",
        "\n",
        "    gbm = lgb.LGBMClassifier(objective='binary')\n",
        "    gbm.fit(train_x, train_y, eval_set = [(valid_x, valid_y)],\n",
        "                early_stopping_rounds=20,\n",
        "                verbose= -1) # 学習の状況を表示しない\n",
        "    \n",
        "    oof = gbm.predict(valid_x, num_iteration=gbm.best_iteration_)\n",
        "    score_list.append(round(accuracy_score(valid_y, oof)*100,2))\n",
        "    models.append(gbm)  # 学習が終わったモデルをリストに入れておく\n",
        "    print(f'fold{fold_ + 1} end\\n' )\n",
        "print(score_list, '平均score', np.mean(score_list), \"%\")  "
      ],
      "metadata": {
        "id": "VOwy3slPCjQZ",
        "outputId": "fa6e8fe1-461d-4b0e-e45a-8158404ebfd2",
        "colab": {
          "base_uri": "https://localhost:8080/"
        }
      },
      "execution_count": 9,
      "outputs": [
        {
          "output_type": "stream",
          "name": "stdout",
          "text": [
            "fold1 start\n",
            "Training until validation scores don't improve for 20 rounds.\n",
            "Early stopping, best iteration is:\n",
            "[56]\tvalid_0's binary_logloss: 0.401825\n",
            "fold1 end\n",
            "\n",
            "fold2 start\n",
            "Training until validation scores don't improve for 20 rounds.\n",
            "Early stopping, best iteration is:\n",
            "[37]\tvalid_0's binary_logloss: 0.430412\n",
            "fold2 end\n",
            "\n",
            "fold3 start\n",
            "Training until validation scores don't improve for 20 rounds.\n",
            "Early stopping, best iteration is:\n",
            "[31]\tvalid_0's binary_logloss: 0.451109\n",
            "fold3 end\n",
            "\n",
            "[81.1, 79.8, 78.4] 平均score 79.76666666666667 %\n"
          ]
        }
      ]
    },
    {
      "cell_type": "markdown",
      "source": [
        "### グリッドサーチ"
      ],
      "metadata": {
        "id": "ETKDH4t9FABr"
      }
    },
    {
      "cell_type": "code",
      "source": [
        "# GridSearchCVをimport\n",
        "from sklearn.model_selection import GridSearchCV\n",
        "\n",
        "gbm = lgb.LGBMClassifier(objective='binary')\n",
        "\n",
        "# 試行するパラメータを羅列する\n",
        "params = {\n",
        "    'max_depth': [2, 3, 4, 5],\n",
        "    'reg_alpha': [0, 1, 10, 100],\n",
        "    'reg_lambda': [0, 1, 10, 100],\n",
        "}\n",
        "\n",
        "grid_search = GridSearchCV(\n",
        "                           gbm,  # 分類器を渡す\n",
        "                           param_grid=params,  # 試行してほしいパラメータを渡す\n",
        "                           cv=3,  # 3分割交差検証でスコアを確認\n",
        "                          )\n",
        "\n",
        "grid_search.fit(X_train, Y_train)  # データを渡す\n",
        "\n",
        "print(grid_search.best_score_)  # ベストスコアを表示\n",
        "print(grid_search.best_params_)  # ベストスコアのパラメータを表示"
      ],
      "metadata": {
        "id": "mDiPD8caD8oL"
      },
      "execution_count": null,
      "outputs": []
    },
    {
      "cell_type": "markdown",
      "source": [
        "# 提出"
      ],
      "metadata": {
        "id": "0WRJr5677L98"
      }
    },
    {
      "cell_type": "code",
      "source": [
        "#testの予測\n",
        "test_pred = gbm.predict(test, num_iteration=gbm.best_iteration_)\n",
        "sub[1] = test_pred  # sample_submitの列1をtest_predに置き換え"
      ],
      "metadata": {
        "id": "srorw4R4TsIf"
      },
      "execution_count": 20,
      "outputs": []
    },
    {
      "cell_type": "code",
      "source": [
        "sub"
      ],
      "metadata": {
        "id": "NaP9hUPoUDg8",
        "colab": {
          "base_uri": "https://localhost:8080/",
          "height": 423
        },
        "outputId": "8d020dd4-443a-49ec-ea90-79a4960d7845"
      },
      "execution_count": 21,
      "outputs": [
        {
          "output_type": "execute_result",
          "data": {
            "text/plain": [
              "         0  1\n",
              "0      398  0\n",
              "1     3833  0\n",
              "2     4836  0\n",
              "3     4572  0\n",
              "4      636  0\n",
              "...    ... ..\n",
              "1995  3138  0\n",
              "1996   191  0\n",
              "1997  3294  1\n",
              "1998  3073  0\n",
              "1999   361  0\n",
              "\n",
              "[2000 rows x 2 columns]"
            ],
            "text/html": [
              "\n",
              "  <div id=\"df-c67c9998-9bba-47cd-b21e-6c022cfc563f\">\n",
              "    <div class=\"colab-df-container\">\n",
              "      <div>\n",
              "<style scoped>\n",
              "    .dataframe tbody tr th:only-of-type {\n",
              "        vertical-align: middle;\n",
              "    }\n",
              "\n",
              "    .dataframe tbody tr th {\n",
              "        vertical-align: top;\n",
              "    }\n",
              "\n",
              "    .dataframe thead th {\n",
              "        text-align: right;\n",
              "    }\n",
              "</style>\n",
              "<table border=\"1\" class=\"dataframe\">\n",
              "  <thead>\n",
              "    <tr style=\"text-align: right;\">\n",
              "      <th></th>\n",
              "      <th>0</th>\n",
              "      <th>1</th>\n",
              "    </tr>\n",
              "  </thead>\n",
              "  <tbody>\n",
              "    <tr>\n",
              "      <th>0</th>\n",
              "      <td>398</td>\n",
              "      <td>0</td>\n",
              "    </tr>\n",
              "    <tr>\n",
              "      <th>1</th>\n",
              "      <td>3833</td>\n",
              "      <td>0</td>\n",
              "    </tr>\n",
              "    <tr>\n",
              "      <th>2</th>\n",
              "      <td>4836</td>\n",
              "      <td>0</td>\n",
              "    </tr>\n",
              "    <tr>\n",
              "      <th>3</th>\n",
              "      <td>4572</td>\n",
              "      <td>0</td>\n",
              "    </tr>\n",
              "    <tr>\n",
              "      <th>4</th>\n",
              "      <td>636</td>\n",
              "      <td>0</td>\n",
              "    </tr>\n",
              "    <tr>\n",
              "      <th>...</th>\n",
              "      <td>...</td>\n",
              "      <td>...</td>\n",
              "    </tr>\n",
              "    <tr>\n",
              "      <th>1995</th>\n",
              "      <td>3138</td>\n",
              "      <td>0</td>\n",
              "    </tr>\n",
              "    <tr>\n",
              "      <th>1996</th>\n",
              "      <td>191</td>\n",
              "      <td>0</td>\n",
              "    </tr>\n",
              "    <tr>\n",
              "      <th>1997</th>\n",
              "      <td>3294</td>\n",
              "      <td>1</td>\n",
              "    </tr>\n",
              "    <tr>\n",
              "      <th>1998</th>\n",
              "      <td>3073</td>\n",
              "      <td>0</td>\n",
              "    </tr>\n",
              "    <tr>\n",
              "      <th>1999</th>\n",
              "      <td>361</td>\n",
              "      <td>0</td>\n",
              "    </tr>\n",
              "  </tbody>\n",
              "</table>\n",
              "<p>2000 rows × 2 columns</p>\n",
              "</div>\n",
              "      <button class=\"colab-df-convert\" onclick=\"convertToInteractive('df-c67c9998-9bba-47cd-b21e-6c022cfc563f')\"\n",
              "              title=\"Convert this dataframe to an interactive table.\"\n",
              "              style=\"display:none;\">\n",
              "        \n",
              "  <svg xmlns=\"http://www.w3.org/2000/svg\" height=\"24px\"viewBox=\"0 0 24 24\"\n",
              "       width=\"24px\">\n",
              "    <path d=\"M0 0h24v24H0V0z\" fill=\"none\"/>\n",
              "    <path d=\"M18.56 5.44l.94 2.06.94-2.06 2.06-.94-2.06-.94-.94-2.06-.94 2.06-2.06.94zm-11 1L8.5 8.5l.94-2.06 2.06-.94-2.06-.94L8.5 2.5l-.94 2.06-2.06.94zm10 10l.94 2.06.94-2.06 2.06-.94-2.06-.94-.94-2.06-.94 2.06-2.06.94z\"/><path d=\"M17.41 7.96l-1.37-1.37c-.4-.4-.92-.59-1.43-.59-.52 0-1.04.2-1.43.59L10.3 9.45l-7.72 7.72c-.78.78-.78 2.05 0 2.83L4 21.41c.39.39.9.59 1.41.59.51 0 1.02-.2 1.41-.59l7.78-7.78 2.81-2.81c.8-.78.8-2.07 0-2.86zM5.41 20L4 18.59l7.72-7.72 1.47 1.35L5.41 20z\"/>\n",
              "  </svg>\n",
              "      </button>\n",
              "      \n",
              "  <style>\n",
              "    .colab-df-container {\n",
              "      display:flex;\n",
              "      flex-wrap:wrap;\n",
              "      gap: 12px;\n",
              "    }\n",
              "\n",
              "    .colab-df-convert {\n",
              "      background-color: #E8F0FE;\n",
              "      border: none;\n",
              "      border-radius: 50%;\n",
              "      cursor: pointer;\n",
              "      display: none;\n",
              "      fill: #1967D2;\n",
              "      height: 32px;\n",
              "      padding: 0 0 0 0;\n",
              "      width: 32px;\n",
              "    }\n",
              "\n",
              "    .colab-df-convert:hover {\n",
              "      background-color: #E2EBFA;\n",
              "      box-shadow: 0px 1px 2px rgba(60, 64, 67, 0.3), 0px 1px 3px 1px rgba(60, 64, 67, 0.15);\n",
              "      fill: #174EA6;\n",
              "    }\n",
              "\n",
              "    [theme=dark] .colab-df-convert {\n",
              "      background-color: #3B4455;\n",
              "      fill: #D2E3FC;\n",
              "    }\n",
              "\n",
              "    [theme=dark] .colab-df-convert:hover {\n",
              "      background-color: #434B5C;\n",
              "      box-shadow: 0px 1px 3px 1px rgba(0, 0, 0, 0.15);\n",
              "      filter: drop-shadow(0px 1px 2px rgba(0, 0, 0, 0.3));\n",
              "      fill: #FFFFFF;\n",
              "    }\n",
              "  </style>\n",
              "\n",
              "      <script>\n",
              "        const buttonEl =\n",
              "          document.querySelector('#df-c67c9998-9bba-47cd-b21e-6c022cfc563f button.colab-df-convert');\n",
              "        buttonEl.style.display =\n",
              "          google.colab.kernel.accessAllowed ? 'block' : 'none';\n",
              "\n",
              "        async function convertToInteractive(key) {\n",
              "          const element = document.querySelector('#df-c67c9998-9bba-47cd-b21e-6c022cfc563f');\n",
              "          const dataTable =\n",
              "            await google.colab.kernel.invokeFunction('convertToInteractive',\n",
              "                                                     [key], {});\n",
              "          if (!dataTable) return;\n",
              "\n",
              "          const docLinkHtml = 'Like what you see? Visit the ' +\n",
              "            '<a target=\"_blank\" href=https://colab.research.google.com/notebooks/data_table.ipynb>data table notebook</a>'\n",
              "            + ' to learn more about interactive tables.';\n",
              "          element.innerHTML = '';\n",
              "          dataTable['output_type'] = 'display_data';\n",
              "          await google.colab.output.renderOutput(dataTable, element);\n",
              "          const docLink = document.createElement('div');\n",
              "          docLink.innerHTML = docLinkHtml;\n",
              "          element.appendChild(docLink);\n",
              "        }\n",
              "      </script>\n",
              "    </div>\n",
              "  </div>\n",
              "  "
            ]
          },
          "metadata": {},
          "execution_count": 21
        }
      ]
    },
    {
      "cell_type": "code",
      "source": [
        "sub.to_csv('220326002.csv', index=False)"
      ],
      "metadata": {
        "id": "x2Wa0a-ZFHeC"
      },
      "execution_count": 22,
      "outputs": []
    },
    {
      "cell_type": "code",
      "source": [
        ""
      ],
      "metadata": {
        "id": "bOqpdXgEGRJ7"
      },
      "execution_count": null,
      "outputs": []
    }
  ]
}