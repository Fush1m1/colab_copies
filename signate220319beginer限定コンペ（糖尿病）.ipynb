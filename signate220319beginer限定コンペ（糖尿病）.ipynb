{
  "nbformat": 4,
  "nbformat_minor": 0,
  "metadata": {
    "colab": {
      "name": "signate220319beginer限定コンペ（糖尿病）.ipynb",
      "provenance": [],
      "collapsed_sections": [],
      "include_colab_link": true
    },
    "kernelspec": {
      "display_name": "Python 3",
      "name": "python3"
    }
  },
  "cells": [
    {
      "cell_type": "markdown",
      "metadata": {
        "id": "view-in-github",
        "colab_type": "text"
      },
      "source": [
        "<a href=\"https://colab.research.google.com/github/Fush1m1/211214sample/blob/main/signate220319beginer%E9%99%90%E5%AE%9A%E3%82%B3%E3%83%B3%E3%83%9A%EF%BC%88%E7%B3%96%E5%B0%BF%E7%97%85%EF%BC%89.ipynb\" target=\"_parent\"><img src=\"https://colab.research.google.com/assets/colab-badge.svg\" alt=\"Open In Colab\"/></a>"
      ]
    },
    {
      "cell_type": "markdown",
      "metadata": {
        "id": "NE7wLFzOqyl2"
      },
      "source": [
        "# データとライブラリの読み込み"
      ]
    },
    {
      "cell_type": "code",
      "source": [
        "from datetime import datetime\n",
        "import numpy as np\n",
        "import pandas as pd\n",
        "import matplotlib.pyplot as plt\n",
        "from sklearn.model_selection import train_test_split\n",
        "from sklearn.preprocessing import LabelEncoder"
      ],
      "metadata": {
        "id": "pRlb78uUQ5hA"
      },
      "execution_count": 59,
      "outputs": []
    },
    {
      "cell_type": "code",
      "metadata": {
        "id": "J3Cwk-6YT6R4"
      },
      "source": [
        "train = pd.read_csv('train.csv')\n",
        "test = pd.read_csv('test.csv')\n",
        "sub = pd.read_csv('sample_submit.csv',header=None)"
      ],
      "execution_count": 60,
      "outputs": []
    },
    {
      "cell_type": "markdown",
      "source": [
        "# クレンジングと特徴量の作成"
      ],
      "metadata": {
        "id": "-_MVPmHqWfDn"
      }
    },
    {
      "cell_type": "code",
      "source": [
        "train = train.drop(\"index\", axis=1)\n",
        "test = test.drop(\"index\", axis=1)"
      ],
      "metadata": {
        "id": "SI4LY6r1OvWF"
      },
      "execution_count": 61,
      "outputs": []
    },
    {
      "cell_type": "markdown",
      "source": [
        "# モデル構築"
      ],
      "metadata": {
        "id": "4dFpqPxAWl7A"
      }
    },
    {
      "cell_type": "code",
      "source": [
        "X_train = train.drop(['Outcome'], axis=1)\n",
        "y_train = train['Outcome']"
      ],
      "metadata": {
        "id": "D5h4xMXdTblO"
      },
      "execution_count": 62,
      "outputs": []
    },
    {
      "cell_type": "code",
      "source": [
        "import lightgbm as lgb\n",
        "from sklearn.model_selection import train_test_split\n",
        "from sklearn.metrics import accuracy_score\n",
        "\n",
        "#X_trainとy_trainをtrainとvalidに分割\n",
        "train_x, valid_x, train_y, valid_y = train_test_split(X, y, test_size=0.33, random_state=0)\n",
        "\n",
        "#LightGBMの分類器をインスタンス化\n",
        "gbm = lgb.LGBMClassifier(objective='binary')\n",
        "\n",
        "#trainとvalidを指定し学習\n",
        "gbm.fit(train_x, train_y, eval_set = [(valid_x, valid_y)],\n",
        "        early_stopping_rounds=20, #20回連続でlossが下がらなかったら終了\n",
        "        verbose=10  #10round毎に、lossを表示\n",
        ")\n"
      ],
      "metadata": {
        "colab": {
          "base_uri": "https://localhost:8080/"
        },
        "id": "2y1B5plKM7Uc",
        "outputId": "0417a725-7f2c-489d-b129-c4352e4dfdc5"
      },
      "execution_count": 63,
      "outputs": [
        {
          "output_type": "stream",
          "name": "stdout",
          "text": [
            "Training until validation scores don't improve for 20 rounds.\n",
            "[10]\tvalid_0's binary_logloss: 0.490868\n",
            "[20]\tvalid_0's binary_logloss: 0.473108\n",
            "[30]\tvalid_0's binary_logloss: 0.46972\n",
            "[40]\tvalid_0's binary_logloss: 0.468288\n",
            "[50]\tvalid_0's binary_logloss: 0.467052\n",
            "Early stopping, best iteration is:\n",
            "[37]\tvalid_0's binary_logloss: 0.466403\n"
          ]
        },
        {
          "output_type": "execute_result",
          "data": {
            "text/plain": [
              "LGBMClassifier(objective='binary')"
            ]
          },
          "metadata": {},
          "execution_count": 63
        }
      ]
    },
    {
      "cell_type": "code",
      "source": [
        "#valid_xについて推論\n",
        "#out of fold　=　学習に使っているデータ以外の予測\n",
        "oof = gbm.predict(valid_x, num_iteration=gbm.best_iteration_)\n",
        "#正解率\n",
        "print('score', round(accuracy_score(valid_y, oof)*100,2), '%')"
      ],
      "metadata": {
        "colab": {
          "base_uri": "https://localhost:8080/"
        },
        "id": "Mz8A5y5DPt-U",
        "outputId": "765b16f1-973d-46ee-b8ff-17364d49ac33"
      },
      "execution_count": 64,
      "outputs": [
        {
          "output_type": "stream",
          "name": "stdout",
          "text": [
            "score 78.79 %\n"
          ]
        }
      ]
    },
    {
      "cell_type": "code",
      "source": [
        "#testの予測\n",
        "test_pred = gbm.predict(test, num_iteration=gbm.best_iteration_)\n",
        "sub[1] = test_pred  # sample_submitの列1をtest_predに置き換え"
      ],
      "metadata": {
        "id": "srorw4R4TsIf"
      },
      "execution_count": 65,
      "outputs": []
    },
    {
      "cell_type": "code",
      "source": [
        ""
      ],
      "metadata": {
        "id": "NaP9hUPoUDg8"
      },
      "execution_count": 42,
      "outputs": []
    }
  ]
}